{
 "cells": [
  {
   "cell_type": "code",
   "execution_count": 1,
   "metadata": {
    "colab": {
     "base_uri": "https://localhost:8080/"
    },
    "id": "dfcJg5meJoeo",
    "outputId": "5b9d3714-5c35-4048-99d8-a0c03f4d07cc"
   },
   "outputs": [],
   "source": [
    "# from pyspark.sql import SparkSession\n",
    "# from pyngrok import ngrok\n",
    "# !ngrok config add-authtoken 2od7Q3DgoNRsx9n0LjNOwHGFzT9_4hYE1ar5x3u7hj5Dfsw9f\n",
    "# # Create a Spark session\n",
    "# spark = SparkSession.builder.appName(\"CropYieldAnalysis\").config(\"spark.ui.port\",\"4050\").getOrCreate()\n",
    "\n",
    "# public_url = ngrok.connect(4050, \"http\")\n",
    "# print(f\"Access Spark UI at: {public_url}\")"
   ]
  },
  {
   "cell_type": "code",
   "execution_count": null,
   "metadata": {
    "colab": {
     "base_uri": "https://localhost:8080/"
    },
    "id": "vxPUxY0Vvw8T",
    "outputId": "6274699b-1f17-4bba-a6ad-c4963c38b78e"
   },
   "outputs": [
    {
     "name": "stdout",
     "output_type": "stream",
     "text": [
      "Initial Data:\n",
      "+------+---------+-------+-----------------+-------------------+---------------+---------------+-----------------+---------------+----------------------+\n",
      "|Region|Soil_Type|   Crop|      Rainfall_mm|Temperature_Celsius|Fertilizer_Used|Irrigation_Used|Weather_Condition|Days_to_Harvest|Yield_tons_per_hectare|\n",
      "+------+---------+-------+-----------------+-------------------+---------------+---------------+-----------------+---------------+----------------------+\n",
      "|  West|    Sandy| Cotton|897.0772391101236| 27.676966373377603|          False|           True|           Cloudy|          122.0|     6.555816258223593|\n",
      "| South|     Clay|   Rice|992.6732816189208|  18.02614225436302|           True|           True|          Rainy  |          140.0|       8.5273409063236|\n",
      "| North|     Loam| Barley|147.9980252926104|  29.79404241557257|          False|          False|            Sunny|          106.0|                  NULL|\n",
      "| noRTH|    Sandy|Soybean|986.8663313367324|  16.64419019137728|          False|           True|            Rainy|          146.0|     6.517572507555278|\n",
      "| South|   Silt  |  Wheat| 730.379174445627|   31.6206873708058|           True|           True|           ClOudY|          110.0|     7.248251218445701|\n",
      "+------+---------+-------+-----------------+-------------------+---------------+---------------+-----------------+---------------+----------------------+\n",
      "only showing top 5 rows\n",
      "\n"
     ]
    },
    {
     "name": "stderr",
     "output_type": "stream",
     "text": [
      "----------------------------------------\n",
      "Exception occurred during processing of request from ('127.0.0.1', 52489)\n",
      "Traceback (most recent call last):\n",
      "  File \"c:\\Users\\DARSHAN SONAWANE\\AppData\\Local\\Programs\\Python\\Python311\\Lib\\socketserver.py\", line 317, in _handle_request_noblock\n",
      "    self.process_request(request, client_address)\n",
      "  File \"c:\\Users\\DARSHAN SONAWANE\\AppData\\Local\\Programs\\Python\\Python311\\Lib\\socketserver.py\", line 348, in process_request\n",
      "    self.finish_request(request, client_address)\n",
      "  File \"c:\\Users\\DARSHAN SONAWANE\\AppData\\Local\\Programs\\Python\\Python311\\Lib\\socketserver.py\", line 361, in finish_request\n",
      "    self.RequestHandlerClass(request, client_address, self)\n",
      "  File \"c:\\Users\\DARSHAN SONAWANE\\AppData\\Local\\Programs\\Python\\Python311\\Lib\\socketserver.py\", line 755, in __init__\n",
      "    self.handle()\n",
      "  File \"c:\\Users\\DARSHAN SONAWANE\\AppData\\Local\\Programs\\Python\\Python311\\Lib\\site-packages\\pyspark\\accumulators.py\", line 295, in handle\n",
      "    poll(accum_updates)\n",
      "  File \"c:\\Users\\DARSHAN SONAWANE\\AppData\\Local\\Programs\\Python\\Python311\\Lib\\site-packages\\pyspark\\accumulators.py\", line 267, in poll\n",
      "    if self.rfile in r and func():\n",
      "                           ^^^^^^\n",
      "  File \"c:\\Users\\DARSHAN SONAWANE\\AppData\\Local\\Programs\\Python\\Python311\\Lib\\site-packages\\pyspark\\accumulators.py\", line 271, in accum_updates\n",
      "    num_updates = read_int(self.rfile)\n",
      "                  ^^^^^^^^^^^^^^^^^^^^\n",
      "  File \"c:\\Users\\DARSHAN SONAWANE\\AppData\\Local\\Programs\\Python\\Python311\\Lib\\site-packages\\pyspark\\serializers.py\", line 594, in read_int\n",
      "    length = stream.read(4)\n",
      "             ^^^^^^^^^^^^^^\n",
      "  File \"c:\\Users\\DARSHAN SONAWANE\\AppData\\Local\\Programs\\Python\\Python311\\Lib\\socket.py\", line 705, in readinto\n",
      "    return self._sock.recv_into(b)\n",
      "           ^^^^^^^^^^^^^^^^^^^^^^^\n",
      "ConnectionResetError: [WinError 10054] An existing connection was forcibly closed by the remote host\n",
      "----------------------------------------\n"
     ]
    }
   ],
   "source": [
    "from pyspark.sql import SparkSession\n",
    "# Initialize SparkSession\n",
    "spark = SparkSession.builder.appName(\"CropYieldAnalysis\").getOrCreate()\n",
    "\n",
    "# Load the CSV file\n",
    "df = spark.read.csv(\"uncleaned_crop_yield.csv\", header=True, inferSchema=False)\n",
    "# Display initial data\n",
    "print(\"Initial Data:\")\n",
    "df.show(5)"
   ]
  },
  {
   "cell_type": "code",
   "execution_count": 3,
   "metadata": {
    "colab": {
     "base_uri": "https://localhost:8080/"
    },
    "id": "VoTnyC_Gwk0s",
    "outputId": "453e0606-9db4-4413-bd23-786c5e41aeb1"
   },
   "outputs": [
    {
     "name": "stdout",
     "output_type": "stream",
     "text": [
      "DataFrame Info:\n",
      "root\n",
      " |-- Region: string (nullable = true)\n",
      " |-- Soil_Type: string (nullable = true)\n",
      " |-- Crop: string (nullable = true)\n",
      " |-- Rainfall_mm: string (nullable = true)\n",
      " |-- Temperature_Celsius: string (nullable = true)\n",
      " |-- Fertilizer_Used: string (nullable = true)\n",
      " |-- Irrigation_Used: string (nullable = true)\n",
      " |-- Weather_Condition: string (nullable = true)\n",
      " |-- Days_to_Harvest: string (nullable = true)\n",
      " |-- Yield_tons_per_hectare: string (nullable = true)\n",
      "\n",
      "Data Summary:\n",
      "+-------+--------+----------+----------+------------------+-------------------+---------------+---------------+-----------------+------------------+----------------------+\n",
      "|summary|  Region| Soil_Type|      Crop|       Rainfall_mm|Temperature_Celsius|Fertilizer_Used|Irrigation_Used|Weather_Condition|   Days_to_Harvest|Yield_tons_per_hectare|\n",
      "+-------+--------+----------+----------+------------------+-------------------+---------------+---------------+-----------------+------------------+----------------------+\n",
      "|  count| 1000000|   1000000|   1000000|            950000|             950001|        1000000|        1000000|          1000000|            950000|                950000|\n",
      "|   mean|    NULL|      NULL|      NULL| 550.0618088764729|  27.50591943284997|           NULL|           NULL|             NULL|104.49760736842106|     4.650397789424634|\n",
      "| stddev|    NULL|      NULL|      NULL|259.98325221893185|  7.232755962223485|           NULL|           NULL|             NULL| 25.95437186965591|    1.6979716110938083|\n",
      "|    min|  EAST  |  CHALKY  |  BARLEY  |100.00089622522204| 15.000034141430271|          False|          False|         CLOUDY  |             100.0|   -0.0003329789271009|\n",
      "|    max|    west|      silt|     wheat|  999.998098221668| 39.999974390370255|           True|           True|            sunny|              99.0|     9.963372228814649|\n",
      "+-------+--------+----------+----------+------------------+-------------------+---------------+---------------+-----------------+------------------+----------------------+\n",
      "\n"
     ]
    }
   ],
   "source": [
    "# Drop duplicate rows\n",
    "df = df.dropDuplicates()\n",
    "\n",
    "# Display schema and information about the DataFrame\n",
    "print(\"DataFrame Info:\")\n",
    "df.printSchema()\n",
    "\n",
    "# Show a summary of the DataFrame (similar to .info() in Pandas)\n",
    "print(\"Data Summary:\")\n",
    "df.describe().show()"
   ]
  },
  {
   "cell_type": "code",
   "execution_count": 4,
   "metadata": {},
   "outputs": [
    {
     "name": "stdout",
     "output_type": "stream",
     "text": [
      "+------+---------+----+-----------+-------------------+---------------+---------------+-----------------+---------------+----------------------+\n",
      "|Region|Soil_Type|Crop|Rainfall_mm|Temperature_Celsius|Fertilizer_Used|Irrigation_Used|Weather_Condition|Days_to_Harvest|Yield_tons_per_hectare|\n",
      "+------+---------+----+-----------+-------------------+---------------+---------------+-----------------+---------------+----------------------+\n",
      "|     0|        0|   0|      50000|              49999|              0|              0|                0|          50000|                 50000|\n",
      "+------+---------+----+-----------+-------------------+---------------+---------------+-----------------+---------------+----------------------+\n",
      "\n"
     ]
    }
   ],
   "source": [
    "from pyspark.sql.functions import col, sum\n",
    "\n",
    "# Calculate the sum of null values for each column\n",
    "null_counts = df.select([\n",
    "    sum(col(c).isNull().cast(\"int\")).alias(c) for c in df.columns\n",
    "])\n",
    "\n",
    "# Show the result\n",
    "null_counts.show()\n"
   ]
  },
  {
   "cell_type": "code",
   "execution_count": 5,
   "metadata": {},
   "outputs": [
    {
     "name": "stdout",
     "output_type": "stream",
     "text": [
      "root\n",
      " |-- Region: string (nullable = true)\n",
      " |-- Soil_Type: string (nullable = true)\n",
      " |-- Crop: string (nullable = true)\n",
      " |-- Rainfall_mm: double (nullable = true)\n",
      " |-- Temperature_Celsius: double (nullable = true)\n",
      " |-- Fertilizer_Used: string (nullable = true)\n",
      " |-- Irrigation_Used: string (nullable = true)\n",
      " |-- Weather_Condition: string (nullable = true)\n",
      " |-- Days_to_Harvest: string (nullable = true)\n",
      " |-- Yield_tons_per_hectare: double (nullable = true)\n",
      "\n"
     ]
    }
   ],
   "source": [
    "from pyspark.sql.functions import col\n",
    "\n",
    "# List of columns to change datatype (all columns or specify desired ones)\n",
    "columns_to_convert = [\"Rainfall_mm\", \"Temperature_Celsius\", \"Yield_tons_per_hectare\"]\n",
    "\n",
    "# Convert columns from string to double\n",
    "for col_name in columns_to_convert:\n",
    "    df = df.withColumn(col_name, col(col_name).cast(\"double\"))\n",
    "\n",
    "# Verify the schema after conversion\n",
    "df.printSchema()\n"
   ]
  },
  {
   "cell_type": "code",
   "execution_count": 6,
   "metadata": {
    "colab": {
     "base_uri": "https://localhost:8080/"
    },
    "id": "8HzsdTz4xwat",
    "outputId": "81843e14-dd13-478c-ce02-0b26b36a84d4"
   },
   "outputs": [
    {
     "name": "stdout",
     "output_type": "stream",
     "text": [
      "Missing values after filling:\n",
      "+------+---------+-----+-----------+-------------------+---------------+---------------+-----------------+---------------+----------------------+\n",
      "|Region|Soil_Type| Crop|Rainfall_mm|Temperature_Celsius|Fertilizer_Used|Irrigation_Used|Weather_Condition|Days_to_Harvest|Yield_tons_per_hectare|\n",
      "+------+---------+-----+-----------+-------------------+---------------+---------------+-----------------+---------------+----------------------+\n",
      "| false|    false|false|      false|              false|          false|          false|            false|          false|                 false|\n",
      "| false|    false|false|      false|              false|          false|          false|            false|          false|                 false|\n",
      "| false|    false|false|      false|              false|          false|          false|            false|          false|                 false|\n",
      "| false|    false|false|      false|              false|          false|          false|            false|          false|                 false|\n",
      "| false|    false|false|      false|              false|          false|          false|            false|          false|                 false|\n",
      "| false|    false|false|      false|              false|          false|          false|            false|          false|                 false|\n",
      "| false|    false|false|      false|              false|          false|          false|            false|          false|                 false|\n",
      "| false|    false|false|      false|              false|          false|          false|            false|          false|                 false|\n",
      "| false|    false|false|      false|              false|          false|          false|            false|          false|                 false|\n",
      "| false|    false|false|      false|              false|          false|          false|            false|          false|                 false|\n",
      "| false|    false|false|      false|              false|          false|          false|            false|          false|                 false|\n",
      "| false|    false|false|      false|              false|          false|          false|            false|          false|                 false|\n",
      "| false|    false|false|      false|              false|          false|          false|            false|          false|                 false|\n",
      "| false|    false|false|      false|              false|          false|          false|            false|          false|                 false|\n",
      "| false|    false|false|      false|              false|          false|          false|            false|          false|                 false|\n",
      "| false|    false|false|      false|              false|          false|          false|            false|          false|                 false|\n",
      "| false|    false|false|      false|              false|          false|          false|            false|          false|                 false|\n",
      "| false|    false|false|      false|              false|          false|          false|            false|          false|                 false|\n",
      "| false|    false|false|      false|              false|          false|          false|            false|          false|                 false|\n",
      "| false|    false|false|      false|              false|          false|          false|            false|          false|                 false|\n",
      "+------+---------+-----+-----------+-------------------+---------------+---------------+-----------------+---------------+----------------------+\n",
      "only showing top 20 rows\n",
      "\n"
     ]
    }
   ],
   "source": [
    "# Handle missing values\n",
    "# Fill numeric columns with their mean\n",
    "from pyspark.sql.functions import col\n",
    "\n",
    "numeric_columns = [col_name for col_name, dtype in df.dtypes if dtype in (\"int\", \"double\")]\n",
    "for col_name in numeric_columns:\n",
    "    mean_value = df.select(col_name).groupBy().avg(col_name).first()[0]\n",
    "    df = df.fillna({col_name: mean_value})\n",
    "\n",
    "# Fill categorical columns with a placeholder\n",
    "categorical_columns = [col_name for col_name, dtype in df.dtypes if dtype == \"string\"]\n",
    "df = df.fillna({col_name: \"Unknown\" for col_name in categorical_columns})\n",
    "\n",
    "# Verify missing values\n",
    "print(\"Missing values after filling:\")\n",
    "df.select([col(c).isNull().alias(c) for c in df.columns]).show()"
   ]
  },
  {
   "cell_type": "code",
   "execution_count": 7,
   "metadata": {},
   "outputs": [
    {
     "name": "stdout",
     "output_type": "stream",
     "text": [
      "+------+---------+----+-----------+-------------------+---------------+---------------+-----------------+---------------+----------------------+\n",
      "|Region|Soil_Type|Crop|Rainfall_mm|Temperature_Celsius|Fertilizer_Used|Irrigation_Used|Weather_Condition|Days_to_Harvest|Yield_tons_per_hectare|\n",
      "+------+---------+----+-----------+-------------------+---------------+---------------+-----------------+---------------+----------------------+\n",
      "|     0|        0|   0|          0|                  0|              0|              0|                0|              0|                     0|\n",
      "+------+---------+----+-----------+-------------------+---------------+---------------+-----------------+---------------+----------------------+\n",
      "\n"
     ]
    }
   ],
   "source": [
    "\n",
    "# Calculate the sum of null values for each column\n",
    "null_counts = df.select([\n",
    "    sum(col(c).isNull().cast(\"int\")).alias(c) for c in df.columns\n",
    "])\n",
    "\n",
    "# Show the result\n",
    "null_counts.show()"
   ]
  },
  {
   "cell_type": "code",
   "execution_count": 8,
   "metadata": {
    "colab": {
     "base_uri": "https://localhost:8080/"
    },
    "id": "XSAsbemXXtSc",
    "outputId": "bde7c75a-5a7f-45b8-8789-83833c74c7e1"
   },
   "outputs": [
    {
     "name": "stdout",
     "output_type": "stream",
     "text": [
      "DataFrame after trimming whitespace from string columns:\n",
      "+------+---------+-------+------------------+-------------------+---------------+---------------+-----------------+---------------+----------------------+\n",
      "|Region|Soil_Type|Crop   |Rainfall_mm       |Temperature_Celsius|Fertilizer_Used|Irrigation_Used|Weather_Condition|Days_to_Harvest|Yield_tons_per_hectare|\n",
      "+------+---------+-------+------------------+-------------------+---------------+---------------+-----------------+---------------+----------------------+\n",
      "|North |Silt     |Soybean|199.38193686127573|24.40539970164948  |False          |False          |Rainy            |77.0           |2.094286585378294     |\n",
      "|North |Clay     |Soybean|124.59555905272148|24.381639466718735 |False          |False          |Rainy            |125.0          |1.1297512768654394    |\n",
      "|East  |Sandy    |Wheat  |983.47603209473   |28.71469155885488  |False          |False          |Cloudy           |104.0          |5.076176030917903     |\n",
      "|West  |Loam     |Maize  |966.013861462972  |30.05385797634982  |True           |False          |Cloudy           |111.0          |7.580681693272711     |\n",
      "|SOuTH |Sandy    |Cotton |695.978050991767  |34.24549234046966  |False          |True           |Cloudy           |63.0           |5.428953786991077     |\n",
      "|West  |Peaty    |mAIze  |187.6552742467574 |39.91907966974373  |False          |False          |Sunny            |61.0           |1.615265486565069     |\n",
      "|North |Chalky   |Soybean|587.6640762191502 |24.941431385687743 |True           |False          |Cloudy           |148.0          |4.569341374451966     |\n",
      "|North |silt     |Barley |108.5945760335618 |27.47844480097165  |True           |True           |RaINY            |113.0          |3.1682304849294423    |\n",
      "|North |Chalky   |Barley |281.1967348591784 |23.24407647499214  |True           |True           |Rainy            |120.0          |4.79947996474957      |\n",
      "|South |Silt     |Soybean|361.1292259372764 |39.57869123010403  |True           |False          |Cloudy           |103.0          |3.800454264444141     |\n",
      "|North |Silt     |bARley |909.3791613885554 |37.89997365168666  |False          |True           |Sunny            |146.0          |6.488546019913596     |\n",
      "|WeST  |Peaty    |Cotton |913.1755982205436 |36.8829344816525   |False          |False          |Rainy            |74.0           |5.894561793219316     |\n",
      "|East  |Peaty    |Cotton |118.45628993453047|32.361525874317365 |False          |False          |Rainy            |145.0          |2.2560375272978828    |\n",
      "|East  |Silt     |Cotton |370.3214922846322 |32.561378855266334 |False          |False          |Rainy            |98.0           |2.566298815232999     |\n",
      "|South |Peaty    |Maize  |430.3188178649578 |20.584197247777784 |True           |False          |Cloudy           |136.0          |4.273959402120014     |\n",
      "|South |Chalky   |Barley |827.6894454969221 |20.935108153482737 |True           |False          |Sunny            |60.0           |5.365083786252706     |\n",
      "|south |Sandy    |Rice   |747.1997460994562 |22.79416273955264  |True           |False          |Sunny            |95.0           |5.259781235130286     |\n",
      "|North |Silt     |Barley |869.8628929292175 |16.15066599639205  |True           |True           |Rainy            |115.0          |7.494745290907316     |\n",
      "|North |Loam     |Barley |977.0598143381042 |23.425135526699545 |True           |False          |Cloudy           |75.0           |7.147862287790495     |\n",
      "|South |Clay     |BaRlEY |401.31728029228657|20.51486085433233  |True           |False          |Rainy            |103.0          |4.13646791323241      |\n",
      "+------+---------+-------+------------------+-------------------+---------------+---------------+-----------------+---------------+----------------------+\n",
      "only showing top 20 rows\n",
      "\n"
     ]
    }
   ],
   "source": [
    "from pyspark.sql.functions import trim\n",
    "\n",
    "# Strip whitespace from string columns\n",
    "for col_name in categorical_columns:\n",
    "    df = df.withColumn(col_name, trim(col(col_name)))\n",
    "\n",
    "# Display the DataFrame to verify the result\n",
    "print(\"DataFrame after trimming whitespace from string columns:\")\n",
    "df.show(truncate=False)\n"
   ]
  },
  {
   "cell_type": "markdown",
   "metadata": {
    "id": "DuB_OpUWZIoG"
   },
   "source": []
  },
  {
   "cell_type": "code",
   "execution_count": 9,
   "metadata": {
    "colab": {
     "base_uri": "https://localhost:8080/"
    },
    "id": "jvC5N6dnZi31",
    "outputId": "3f92723b-0b18-4000-99f2-5d2188417069"
   },
   "outputs": [
    {
     "name": "stdout",
     "output_type": "stream",
     "text": [
      "Sample data after converting strings to uppercase:\n",
      "+------+---------+-------+------------------+-------------------+---------------+---------------+-----------------+---------------+----------------------+\n",
      "|Region|Soil_Type|Crop   |Rainfall_mm       |Temperature_Celsius|Fertilizer_Used|Irrigation_Used|Weather_Condition|Days_to_Harvest|Yield_tons_per_hectare|\n",
      "+------+---------+-------+------------------+-------------------+---------------+---------------+-----------------+---------------+----------------------+\n",
      "|NORTH |SILT     |SOYBEAN|199.38193686127573|24.40539970164948  |FALSE          |FALSE          |RAINY            |77.0           |2.094286585378294     |\n",
      "|NORTH |CLAY     |SOYBEAN|124.59555905272148|24.381639466718735 |FALSE          |FALSE          |RAINY            |125.0          |1.1297512768654394    |\n",
      "|EAST  |SANDY    |WHEAT  |983.47603209473   |28.71469155885488  |FALSE          |FALSE          |CLOUDY           |104.0          |5.076176030917903     |\n",
      "|WEST  |LOAM     |MAIZE  |966.013861462972  |30.05385797634982  |TRUE           |FALSE          |CLOUDY           |111.0          |7.580681693272711     |\n",
      "|SOUTH |SANDY    |COTTON |695.978050991767  |34.24549234046966  |FALSE          |TRUE           |CLOUDY           |63.0           |5.428953786991077     |\n",
      "+------+---------+-------+------------------+-------------------+---------------+---------------+-----------------+---------------+----------------------+\n",
      "only showing top 5 rows\n",
      "\n",
      "Null counts per column after converting strings to uppercase:\n",
      "+-----------+--------------+---------+----------------+------------------------+--------------------+--------------------+----------------------+--------------------+---------------------------+\n",
      "|sum(Region)|sum(Soil_Type)|sum(Crop)|sum(Rainfall_mm)|sum(Temperature_Celsius)|sum(Fertilizer_Used)|sum(Irrigation_Used)|sum(Weather_Condition)|sum(Days_to_Harvest)|sum(Yield_tons_per_hectare)|\n",
      "+-----------+--------------+---------+----------------+------------------------+--------------------+--------------------+----------------------+--------------------+---------------------------+\n",
      "|       NULL|          NULL|     NULL|            NULL|                    NULL|                NULL|                NULL|                  NULL|                NULL|                       NULL|\n",
      "+-----------+--------------+---------+----------------+------------------------+--------------------+--------------------+----------------------+--------------------+---------------------------+\n",
      "\n",
      "Number of rows after converting strings to uppercase: 1000000\n",
      "Row(Region='NORTH', Soil_Type='SILT', Crop='SOYBEAN', Rainfall_mm=199.38193686127573, Temperature_Celsius=24.40539970164948, Fertilizer_Used='FALSE', Irrigation_Used='FALSE', Weather_Condition='RAINY', Days_to_Harvest='77.0', Yield_tons_per_hectare=2.094286585378294)\n",
      "Row(Region='NORTH', Soil_Type='CLAY', Crop='SOYBEAN', Rainfall_mm=124.59555905272148, Temperature_Celsius=24.381639466718735, Fertilizer_Used='FALSE', Irrigation_Used='FALSE', Weather_Condition='RAINY', Days_to_Harvest='125.0', Yield_tons_per_hectare=1.1297512768654394)\n",
      "Row(Region='EAST', Soil_Type='SANDY', Crop='WHEAT', Rainfall_mm=983.47603209473, Temperature_Celsius=28.71469155885488, Fertilizer_Used='FALSE', Irrigation_Used='FALSE', Weather_Condition='CLOUDY', Days_to_Harvest='104.0', Yield_tons_per_hectare=5.076176030917903)\n",
      "Row(Region='WEST', Soil_Type='LOAM', Crop='MAIZE', Rainfall_mm=966.013861462972, Temperature_Celsius=30.05385797634982, Fertilizer_Used='TRUE', Irrigation_Used='FALSE', Weather_Condition='CLOUDY', Days_to_Harvest='111.0', Yield_tons_per_hectare=7.580681693272711)\n",
      "Row(Region='SOUTH', Soil_Type='SANDY', Crop='COTTON', Rainfall_mm=695.978050991767, Temperature_Celsius=34.24549234046966, Fertilizer_Used='FALSE', Irrigation_Used='TRUE', Weather_Condition='CLOUDY', Days_to_Harvest='63.0', Yield_tons_per_hectare=5.428953786991077)\n"
     ]
    }
   ],
   "source": [
    "from pyspark.sql.functions import col, when, upper, isnan\n",
    "\n",
    "# Assume `df` is the PySpark DataFrame\n",
    "\n",
    "# Convert all string columns to uppercase\n",
    "string_columns = [col_name for col_name, dtype in df.dtypes if dtype == \"string\"]\n",
    "for col_name in string_columns:\n",
    "    df = df.withColumn(col_name, upper(col(col_name)))\n",
    "\n",
    "# Display a sample of the data after converting strings to uppercase\n",
    "print(\"Sample data after converting strings to uppercase:\")\n",
    "df.show(5, truncate=False)\n",
    "\n",
    "# Count null values for all columns after the transformation\n",
    "null_counts_after_upper = (\n",
    "    df.select([when(col(c).isNull() | isnan(c), 1).alias(c) for c in df.columns])\n",
    "    .groupBy()\n",
    "    .sum()\n",
    ")\n",
    "\n",
    "print(\"Null counts per column after converting strings to uppercase:\")\n",
    "null_counts_after_upper.show()\n",
    "\n",
    "# Count the number of rows after the transformation\n",
    "row_count_after_upper = df.count()\n",
    "print(f\"Number of rows after converting strings to uppercase: {row_count_after_upper}\")\n",
    "\n",
    "# Collect and display a sample of the processed data\n",
    "processed_data_after_upper = df.take(5)  # Collect the first 5 rows\n",
    "for row in processed_data_after_upper:\n",
    "    print(row)\n"
   ]
  },
  {
   "cell_type": "code",
   "execution_count": 10,
   "metadata": {
    "colab": {
     "base_uri": "https://localhost:8080/"
    },
    "id": "lGQAf7dygJ-Y",
    "outputId": "64e544a3-e457-47d9-d2d8-d30226cef032"
   },
   "outputs": [
    {
     "name": "stdout",
     "output_type": "stream",
     "text": [
      "root\n",
      " |-- Region: string (nullable = false)\n",
      " |-- Soil_Type: string (nullable = false)\n",
      " |-- Crop: string (nullable = false)\n",
      " |-- Rainfall_mm: double (nullable = false)\n",
      " |-- Temperature_Celsius: double (nullable = false)\n",
      " |-- Fertilizer_Used: string (nullable = false)\n",
      " |-- Irrigation_Used: string (nullable = false)\n",
      " |-- Weather_Condition: string (nullable = false)\n",
      " |-- Days_to_Harvest: string (nullable = false)\n",
      " |-- Yield_tons_per_hectare: double (nullable = false)\n",
      "\n",
      "+------+-------+\n",
      "|Region|   Crop|\n",
      "+------+-------+\n",
      "| NORTH|SOYBEAN|\n",
      "| NORTH|SOYBEAN|\n",
      "|  EAST|  WHEAT|\n",
      "|  WEST|  MAIZE|\n",
      "| SOUTH| COTTON|\n",
      "|  WEST|  MAIZE|\n",
      "| NORTH|SOYBEAN|\n",
      "| NORTH| BARLEY|\n",
      "| NORTH| BARLEY|\n",
      "| SOUTH|SOYBEAN|\n",
      "| NORTH| BARLEY|\n",
      "|  WEST| COTTON|\n",
      "|  EAST| COTTON|\n",
      "|  EAST| COTTON|\n",
      "| SOUTH|  MAIZE|\n",
      "| SOUTH| BARLEY|\n",
      "| SOUTH|   RICE|\n",
      "| NORTH| BARLEY|\n",
      "| NORTH| BARLEY|\n",
      "| SOUTH| BARLEY|\n",
      "+------+-------+\n",
      "only showing top 20 rows\n",
      "\n"
     ]
    }
   ],
   "source": [
    "from pyspark.sql.types import StringType\n",
    "\n",
    "# Convert 'Region' column to StringType (already default for strings in PySpark)\n",
    "df = df.withColumn(\"Region\", col(\"Region\").cast(StringType()))\n",
    "\n",
    "# Convert 'Crop' column to StringType\n",
    "df = df.withColumn(\"Crop\", col(\"Crop\").cast(StringType()))\n",
    "\n",
    "# Display schema to confirm the datatype\n",
    "df.printSchema()\n",
    "\n",
    "# Show the updated DataFrame\n",
    "df.select(\"Region\", \"Crop\").show()"
   ]
  },
  {
   "cell_type": "code",
   "execution_count": 11,
   "metadata": {
    "colab": {
     "base_uri": "https://localhost:8080/"
    },
    "id": "BX1J5eDmisdr",
    "outputId": "1541c040-ea46-44cd-97e6-10487936769d"
   },
   "outputs": [
    {
     "name": "stdout",
     "output_type": "stream",
     "text": [
      "+------+---------+-------+-----------+-------------------+---------------+---------------+-----------------+---------------+----------------------+\n",
      "|Region|Soil_Type|   Crop|Rainfall_mm|Temperature_Celsius|Fertilizer_Used|Irrigation_Used|Weather_Condition|Days_to_Harvest|Yield_tons_per_hectare|\n",
      "+------+---------+-------+-----------+-------------------+---------------+---------------+-----------------+---------------+----------------------+\n",
      "| NORTH|     SILT|SOYBEAN|     199.38|  24.40539970164948|          FALSE|          FALSE|            RAINY|           77.0|     2.094286585378294|\n",
      "| NORTH|     CLAY|SOYBEAN|      124.6| 24.381639466718735|          FALSE|          FALSE|            RAINY|          125.0|    1.1297512768654394|\n",
      "|  EAST|    SANDY|  WHEAT|     983.48|  28.71469155885488|          FALSE|          FALSE|           CLOUDY|          104.0|     5.076176030917903|\n",
      "|  WEST|     LOAM|  MAIZE|     966.01|  30.05385797634982|           TRUE|          FALSE|           CLOUDY|          111.0|     7.580681693272711|\n",
      "| SOUTH|    SANDY| COTTON|     695.98|  34.24549234046966|          FALSE|           TRUE|           CLOUDY|           63.0|     5.428953786991077|\n",
      "+------+---------+-------+-----------+-------------------+---------------+---------------+-----------------+---------------+----------------------+\n",
      "only showing top 5 rows\n",
      "\n"
     ]
    }
   ],
   "source": [
    "from pyspark.sql.functions import round\n",
    "\n",
    "# Round the 'Rainfall_mm' column to 2 decimal places\n",
    "df = df.withColumn(\"Rainfall_mm\", round(col(\"Rainfall_mm\"), 2))\n",
    "\n",
    "# Display the updated DataFrame\n",
    "df.show(5)"
   ]
  },
  {
   "cell_type": "code",
   "execution_count": 12,
   "metadata": {
    "colab": {
     "base_uri": "https://localhost:8080/"
    },
    "id": "NYtf7V9ylbse",
    "outputId": "a9d7fbca-f815-4521-ecaf-337f5e1b06f6"
   },
   "outputs": [
    {
     "name": "stdout",
     "output_type": "stream",
     "text": [
      "Filtered DataFrame:\n",
      "root\n",
      " |-- Region: string (nullable = false)\n",
      " |-- Soil_Type: string (nullable = false)\n",
      " |-- Crop: string (nullable = false)\n",
      " |-- Rainfall_mm: double (nullable = true)\n",
      " |-- Temperature_Celsius: double (nullable = false)\n",
      " |-- Fertilizer_Used: string (nullable = false)\n",
      " |-- Irrigation_Used: string (nullable = false)\n",
      " |-- Weather_Condition: string (nullable = false)\n",
      " |-- Days_to_Harvest: string (nullable = false)\n",
      " |-- Yield_tons_per_hectare: double (nullable = false)\n",
      "\n",
      "+------+---------+-------+-----------+-------------------+---------------+---------------+-----------------+---------------+----------------------+\n",
      "|Region|Soil_Type|   Crop|Rainfall_mm|Temperature_Celsius|Fertilizer_Used|Irrigation_Used|Weather_Condition|Days_to_Harvest|Yield_tons_per_hectare|\n",
      "+------+---------+-------+-----------+-------------------+---------------+---------------+-----------------+---------------+----------------------+\n",
      "| NORTH|     SILT|SOYBEAN|     199.38|  24.40539970164948|          FALSE|          FALSE|            RAINY|           77.0|     2.094286585378294|\n",
      "| NORTH|     CLAY|SOYBEAN|      124.6| 24.381639466718735|          FALSE|          FALSE|            RAINY|          125.0|    1.1297512768654394|\n",
      "|  EAST|    SANDY|  WHEAT|     983.48|  28.71469155885488|          FALSE|          FALSE|           CLOUDY|          104.0|     5.076176030917903|\n",
      "|  WEST|     LOAM|  MAIZE|     966.01|  30.05385797634982|           TRUE|          FALSE|           CLOUDY|          111.0|     7.580681693272711|\n",
      "| SOUTH|    SANDY| COTTON|     695.98|  34.24549234046966|          FALSE|           TRUE|           CLOUDY|           63.0|     5.428953786991077|\n",
      "|  WEST|    PEATY|  MAIZE|     187.66|  39.91907966974373|          FALSE|          FALSE|            SUNNY|           61.0|     1.615265486565069|\n",
      "| NORTH|   CHALKY|SOYBEAN|     587.66| 24.941431385687743|           TRUE|          FALSE|           CLOUDY|          148.0|     4.569341374451966|\n",
      "| NORTH|     SILT| BARLEY|     108.59|  27.47844480097165|           TRUE|           TRUE|            RAINY|          113.0|    3.1682304849294423|\n",
      "| NORTH|   CHALKY| BARLEY|      281.2|  23.24407647499214|           TRUE|           TRUE|            RAINY|          120.0|      4.79947996474957|\n",
      "| SOUTH|     SILT|SOYBEAN|     361.13|  39.57869123010403|           TRUE|          FALSE|           CLOUDY|          103.0|     3.800454264444141|\n",
      "| NORTH|     SILT| BARLEY|     909.38|  37.89997365168666|          FALSE|           TRUE|            SUNNY|          146.0|     6.488546019913596|\n",
      "|  WEST|    PEATY| COTTON|     913.18|   36.8829344816525|          FALSE|          FALSE|            RAINY|           74.0|     5.894561793219316|\n",
      "|  EAST|    PEATY| COTTON|     118.46| 32.361525874317365|          FALSE|          FALSE|            RAINY|          145.0|    2.2560375272978828|\n",
      "|  EAST|     SILT| COTTON|     370.32| 32.561378855266334|          FALSE|          FALSE|            RAINY|           98.0|     2.566298815232999|\n",
      "| SOUTH|    PEATY|  MAIZE|     430.32| 20.584197247777784|           TRUE|          FALSE|           CLOUDY|          136.0|     4.273959402120014|\n",
      "| SOUTH|   CHALKY| BARLEY|     827.69| 20.935108153482737|           TRUE|          FALSE|            SUNNY|           60.0|     5.365083786252706|\n",
      "| SOUTH|    SANDY|   RICE|      747.2|  22.79416273955264|           TRUE|          FALSE|            SUNNY|           95.0|     5.259781235130286|\n",
      "| NORTH|     SILT| BARLEY|     869.86|  16.15066599639205|           TRUE|           TRUE|            RAINY|          115.0|     7.494745290907316|\n",
      "| NORTH|     LOAM| BARLEY|     977.06| 23.425135526699545|           TRUE|          FALSE|           CLOUDY|           75.0|     7.147862287790495|\n",
      "| SOUTH|     CLAY| BARLEY|     401.32|  20.51486085433233|           TRUE|          FALSE|            RAINY|          103.0|      4.13646791323241|\n",
      "+------+---------+-------+-----------+-------------------+---------------+---------------+-----------------+---------------+----------------------+\n",
      "only showing top 20 rows\n",
      "\n"
     ]
    }
   ],
   "source": [
    "from pyspark.sql.functions import col\n",
    "\n",
    "# Identify numeric columns\n",
    "numeric_columns = [col_name for col_name, dtype in df.dtypes if dtype in (\"int\", \"double\")]\n",
    "\n",
    "# Loop through numeric columns to filter outliers\n",
    "for col_name in numeric_columns:\n",
    "    # Calculate Q1 and Q3 using approxQuantile\n",
    "    Q1, Q3 = df.approxQuantile(col_name, [0.25, 0.75], relativeError=0.01)\n",
    "    IQR = Q3 - Q1\n",
    "    lower_bound = Q1 - 1.5 * IQR\n",
    "    upper_bound = Q3 + 1.5 * IQR\n",
    "\n",
    "    # Filter rows within the bounds\n",
    "    df = df.filter((col(col_name) >= lower_bound) & (col(col_name) <= upper_bound))\n",
    "\n",
    "# Show the DataFrame information\n",
    "print(\"Filtered DataFrame:\")\n",
    "df.printSchema()\n",
    "df.show()\n"
   ]
  },
  {
   "cell_type": "code",
   "execution_count": 13,
   "metadata": {
    "colab": {
     "base_uri": "https://localhost:8080/"
    },
    "id": "oHfE4D_ypHrH",
    "outputId": "0e2dc5a3-f851-401a-b46f-da22aa5dda85"
   },
   "outputs": [
    {
     "name": "stdout",
     "output_type": "stream",
     "text": [
      "+-----------+-------------------+---------------+----------------------+--------+--------+--------+--------+-----------+-----------+-----------+-----------+-----------+-----------+------+------+------+------+------+------+-------------------+-------------------+-------------------+-----------------+-----------------+-----------------+-----------------+\n",
      "|Rainfall_mm|Temperature_Celsius|Days_to_Harvest|Yield_tons_per_hectare|Region_0|Region_1|Region_2|Region_3|Soil_Type_0|Soil_Type_1|Soil_Type_2|Soil_Type_3|Soil_Type_4|Soil_Type_5|Crop_0|Crop_1|Crop_2|Crop_3|Crop_4|Crop_5|Weather_Condition_0|Weather_Condition_1|Weather_Condition_2|Irrigation_Used_0|Irrigation_Used_1|Fertilizer_Used_0|Fertilizer_Used_1|\n",
      "+-----------+-------------------+---------------+----------------------+--------+--------+--------+--------+-----------+-----------+-----------+-----------+-----------+-----------+------+------+------+------+------+------+-------------------+-------------------+-------------------+-----------------+-----------------+-----------------+-----------------+\n",
      "|199.38     |24.40539970164948  |77.0           |2.094286585378294     |1.0     |0.0     |0.0     |0.0     |0.0        |0.0        |0.0        |1.0        |0.0        |0.0        |0.0   |0.0   |0.0   |0.0   |0.0   |1.0   |0.0                |1.0                |0.0                |1.0              |0.0              |1.0              |0.0              |\n",
      "|124.6      |24.381639466718735 |125.0          |1.1297512768654394    |1.0     |0.0     |0.0     |0.0     |0.0        |0.0        |0.0        |0.0        |1.0        |0.0        |0.0   |0.0   |0.0   |0.0   |0.0   |1.0   |0.0                |1.0                |0.0                |1.0              |0.0              |1.0              |0.0              |\n",
      "|983.48     |28.71469155885488  |104.0          |5.076176030917903     |0.0     |0.0     |0.0     |1.0     |1.0        |0.0        |0.0        |0.0        |0.0        |0.0        |0.0   |0.0   |0.0   |1.0   |0.0   |0.0   |0.0                |0.0                |1.0                |1.0              |0.0              |1.0              |0.0              |\n",
      "|966.01     |30.05385797634982  |111.0          |7.580681693272711     |0.0     |1.0     |0.0     |0.0     |0.0        |1.0        |0.0        |0.0        |0.0        |0.0        |1.0   |0.0   |0.0   |0.0   |0.0   |0.0   |0.0                |0.0                |1.0                |1.0              |0.0              |0.0              |1.0              |\n",
      "|695.98     |34.24549234046966  |63.0           |5.428953786991077     |0.0     |0.0     |1.0     |0.0     |1.0        |0.0        |0.0        |0.0        |0.0        |0.0        |0.0   |0.0   |0.0   |0.0   |1.0   |0.0   |0.0                |0.0                |1.0                |0.0              |1.0              |1.0              |0.0              |\n",
      "|187.66     |39.91907966974373  |61.0           |1.615265486565069     |0.0     |1.0     |0.0     |0.0     |0.0        |0.0        |0.0        |0.0        |0.0        |1.0        |1.0   |0.0   |0.0   |0.0   |0.0   |0.0   |1.0                |0.0                |0.0                |1.0              |0.0              |1.0              |0.0              |\n",
      "|587.66     |24.941431385687743 |148.0          |4.569341374451966     |1.0     |0.0     |0.0     |0.0     |0.0        |0.0        |1.0        |0.0        |0.0        |0.0        |0.0   |0.0   |0.0   |0.0   |0.0   |1.0   |0.0                |0.0                |1.0                |1.0              |0.0              |0.0              |1.0              |\n",
      "|108.59     |27.47844480097165  |113.0          |3.1682304849294423    |1.0     |0.0     |0.0     |0.0     |0.0        |0.0        |0.0        |1.0        |0.0        |0.0        |0.0   |0.0   |1.0   |0.0   |0.0   |0.0   |0.0                |1.0                |0.0                |0.0              |1.0              |0.0              |1.0              |\n",
      "|281.2      |23.24407647499214  |120.0          |4.79947996474957      |1.0     |0.0     |0.0     |0.0     |0.0        |0.0        |1.0        |0.0        |0.0        |0.0        |0.0   |0.0   |1.0   |0.0   |0.0   |0.0   |0.0                |1.0                |0.0                |0.0              |1.0              |0.0              |1.0              |\n",
      "|361.13     |39.57869123010403  |103.0          |3.800454264444141     |0.0     |0.0     |1.0     |0.0     |0.0        |0.0        |0.0        |1.0        |0.0        |0.0        |0.0   |0.0   |0.0   |0.0   |0.0   |1.0   |0.0                |0.0                |1.0                |1.0              |0.0              |0.0              |1.0              |\n",
      "|909.38     |37.89997365168666  |146.0          |6.488546019913596     |1.0     |0.0     |0.0     |0.0     |0.0        |0.0        |0.0        |1.0        |0.0        |0.0        |0.0   |0.0   |1.0   |0.0   |0.0   |0.0   |1.0                |0.0                |0.0                |0.0              |1.0              |1.0              |0.0              |\n",
      "|913.18     |36.8829344816525   |74.0           |5.894561793219316     |0.0     |1.0     |0.0     |0.0     |0.0        |0.0        |0.0        |0.0        |0.0        |1.0        |0.0   |0.0   |0.0   |0.0   |1.0   |0.0   |0.0                |1.0                |0.0                |1.0              |0.0              |1.0              |0.0              |\n",
      "|118.46     |32.361525874317365 |145.0          |2.2560375272978828    |0.0     |0.0     |0.0     |1.0     |0.0        |0.0        |0.0        |0.0        |0.0        |1.0        |0.0   |0.0   |0.0   |0.0   |1.0   |0.0   |0.0                |1.0                |0.0                |1.0              |0.0              |1.0              |0.0              |\n",
      "|370.32     |32.561378855266334 |98.0           |2.566298815232999     |0.0     |0.0     |0.0     |1.0     |0.0        |0.0        |0.0        |1.0        |0.0        |0.0        |0.0   |0.0   |0.0   |0.0   |1.0   |0.0   |0.0                |1.0                |0.0                |1.0              |0.0              |1.0              |0.0              |\n",
      "|430.32     |20.584197247777784 |136.0          |4.273959402120014     |0.0     |0.0     |1.0     |0.0     |0.0        |0.0        |0.0        |0.0        |0.0        |1.0        |1.0   |0.0   |0.0   |0.0   |0.0   |0.0   |0.0                |0.0                |1.0                |1.0              |0.0              |0.0              |1.0              |\n",
      "|827.69     |20.935108153482737 |60.0           |5.365083786252706     |0.0     |0.0     |1.0     |0.0     |0.0        |0.0        |1.0        |0.0        |0.0        |0.0        |0.0   |0.0   |1.0   |0.0   |0.0   |0.0   |1.0                |0.0                |0.0                |1.0              |0.0              |0.0              |1.0              |\n",
      "|747.2      |22.79416273955264  |95.0           |5.259781235130286     |0.0     |0.0     |1.0     |0.0     |1.0        |0.0        |0.0        |0.0        |0.0        |0.0        |0.0   |1.0   |0.0   |0.0   |0.0   |0.0   |1.0                |0.0                |0.0                |1.0              |0.0              |0.0              |1.0              |\n",
      "|869.86     |16.15066599639205  |115.0          |7.494745290907316     |1.0     |0.0     |0.0     |0.0     |0.0        |0.0        |0.0        |1.0        |0.0        |0.0        |0.0   |0.0   |1.0   |0.0   |0.0   |0.0   |0.0                |1.0                |0.0                |0.0              |1.0              |0.0              |1.0              |\n",
      "|977.06     |23.425135526699545 |75.0           |7.147862287790495     |1.0     |0.0     |0.0     |0.0     |0.0        |1.0        |0.0        |0.0        |0.0        |0.0        |0.0   |0.0   |1.0   |0.0   |0.0   |0.0   |0.0                |0.0                |1.0                |1.0              |0.0              |0.0              |1.0              |\n",
      "|401.32     |20.51486085433233  |103.0          |4.13646791323241      |0.0     |0.0     |1.0     |0.0     |0.0        |0.0        |0.0        |0.0        |1.0        |0.0        |0.0   |0.0   |1.0   |0.0   |0.0   |0.0   |0.0                |1.0                |0.0                |1.0              |0.0              |0.0              |1.0              |\n",
      "+-----------+-------------------+---------------+----------------------+--------+--------+--------+--------+-----------+-----------+-----------+-----------+-----------+-----------+------+------+------+------+------+------+-------------------+-------------------+-------------------+-----------------+-----------------+-----------------+-----------------+\n",
      "only showing top 20 rows\n",
      "\n",
      "root\n",
      " |-- Rainfall_mm: double (nullable = true)\n",
      " |-- Temperature_Celsius: double (nullable = false)\n",
      " |-- Days_to_Harvest: string (nullable = false)\n",
      " |-- Yield_tons_per_hectare: double (nullable = false)\n",
      " |-- Region_0: float (nullable = true)\n",
      " |-- Region_1: float (nullable = true)\n",
      " |-- Region_2: float (nullable = true)\n",
      " |-- Region_3: float (nullable = true)\n",
      " |-- Soil_Type_0: float (nullable = true)\n",
      " |-- Soil_Type_1: float (nullable = true)\n",
      " |-- Soil_Type_2: float (nullable = true)\n",
      " |-- Soil_Type_3: float (nullable = true)\n",
      " |-- Soil_Type_4: float (nullable = true)\n",
      " |-- Soil_Type_5: float (nullable = true)\n",
      " |-- Crop_0: float (nullable = true)\n",
      " |-- Crop_1: float (nullable = true)\n",
      " |-- Crop_2: float (nullable = true)\n",
      " |-- Crop_3: float (nullable = true)\n",
      " |-- Crop_4: float (nullable = true)\n",
      " |-- Crop_5: float (nullable = true)\n",
      " |-- Weather_Condition_0: float (nullable = true)\n",
      " |-- Weather_Condition_1: float (nullable = true)\n",
      " |-- Weather_Condition_2: float (nullable = true)\n",
      " |-- Irrigation_Used_0: float (nullable = true)\n",
      " |-- Irrigation_Used_1: float (nullable = true)\n",
      " |-- Fertilizer_Used_0: float (nullable = true)\n",
      " |-- Fertilizer_Used_1: float (nullable = true)\n",
      "\n"
     ]
    }
   ],
   "source": [
    "from pyspark.ml.feature import StringIndexer, OneHotEncoder\n",
    "from pyspark.ml import Pipeline\n",
    "from pyspark.sql.functions import udf, col\n",
    "from pyspark.sql.types import FloatType\n",
    "\n",
    "# Define categorical columns to encode\n",
    "categorical_columns = ['Region', 'Soil_Type', 'Crop', 'Weather_Condition', 'Irrigation_Used', 'Fertilizer_Used']\n",
    "\n",
    "# Step 1: Remove existing index/encoded columns if present\n",
    "columns_to_remove = [f\"{col}_Index\" for col in categorical_columns] + [f\"{col}_Encoded\" for col in categorical_columns]\n",
    "df = df.drop(*[c for c in columns_to_remove if c in df.columns])\n",
    "\n",
    "# Step 2: Apply StringIndexer and OneHotEncoder\n",
    "indexers = [StringIndexer(inputCol=col_name, outputCol=f\"{col_name}_Index\") for col_name in categorical_columns]\n",
    "encoders = [OneHotEncoder(inputCol=f\"{col_name}_Index\", outputCol=f\"{col_name}_Encoded\", dropLast=False) for col_name in categorical_columns]\n",
    "\n",
    "# Combine into a pipeline\n",
    "pipeline = Pipeline(stages=indexers + encoders)\n",
    "\n",
    "# Fit and transform the DataFrame\n",
    "pipeline_model = pipeline.fit(df)\n",
    "encoded_df = pipeline_model.transform(df)\n",
    "\n",
    "# Step 3: Convert OneHotEncoded vectors to separate binary columns\n",
    "def extract_dense_vector(vector, index):\n",
    "    return float(vector[index]) if vector is not None else 0.0\n",
    "\n",
    "for col_name in categorical_columns:\n",
    "    num_categories = encoded_df.select(f\"{col_name}_Encoded\").first()[0].size  # Get number of categories\n",
    "    for i in range(num_categories):\n",
    "        extract_udf = udf(lambda vector: extract_dense_vector(vector, i), FloatType())\n",
    "        encoded_df = encoded_df.withColumn(f\"{col_name}_{i}\", extract_udf(col(f\"{col_name}_Encoded\")))\n",
    "\n",
    "# Step 4: Drop original, indexed, and encoded columns\n",
    "columns_to_drop = categorical_columns + [f\"{col}_Index\" for col in categorical_columns] + [f\"{col}_Encoded\" for col in categorical_columns]\n",
    "encoded_df = encoded_df.drop(*columns_to_drop)\n",
    "\n",
    "# Show the final DataFrame\n",
    "encoded_df.show(truncate=False)\n",
    "encoded_df.printSchema()\n"
   ]
  },
  {
   "cell_type": "code",
   "execution_count": 14,
   "metadata": {
    "id": "NSadY9oRdgrk"
   },
   "outputs": [],
   "source": [
    "# Define the columns to scale\n",
    "columns_to_convert = [ \"Days_to_Harvest\", \"Yield_tons_per_hectare\"]\n",
    "\n",
    "# Step 1: Replace null values with 0.0 and cast to double\n",
    "for col_name in columns_to_convert:\n",
    "    encoded_df = encoded_df.withColumn(col_name,\n",
    "                                       when(col(col_name).isNull(), 0.0).otherwise(col(col_name).cast(\"double\")))\n"
   ]
  },
  {
   "cell_type": "code",
   "execution_count": 15,
   "metadata": {
    "colab": {
     "base_uri": "https://localhost:8080/"
    },
    "id": "CvYQUSuhtycW",
    "outputId": "d95eded4-605c-47ad-a3d2-092a8ca48eca"
   },
   "outputs": [
    {
     "name": "stdout",
     "output_type": "stream",
     "text": [
      "root\n",
      " |-- Rainfall_mm: double (nullable = true)\n",
      " |-- Temperature_Celsius: double (nullable = false)\n",
      " |-- Days_to_Harvest: double (nullable = true)\n",
      " |-- Yield_tons_per_hectare: double (nullable = false)\n",
      " |-- Region_0: float (nullable = true)\n",
      " |-- Region_1: float (nullable = true)\n",
      " |-- Region_2: float (nullable = true)\n",
      " |-- Region_3: float (nullable = true)\n",
      " |-- Soil_Type_0: float (nullable = true)\n",
      " |-- Soil_Type_1: float (nullable = true)\n",
      " |-- Soil_Type_2: float (nullable = true)\n",
      " |-- Soil_Type_3: float (nullable = true)\n",
      " |-- Soil_Type_4: float (nullable = true)\n",
      " |-- Soil_Type_5: float (nullable = true)\n",
      " |-- Crop_0: float (nullable = true)\n",
      " |-- Crop_1: float (nullable = true)\n",
      " |-- Crop_2: float (nullable = true)\n",
      " |-- Crop_3: float (nullable = true)\n",
      " |-- Crop_4: float (nullable = true)\n",
      " |-- Crop_5: float (nullable = true)\n",
      " |-- Weather_Condition_0: float (nullable = true)\n",
      " |-- Weather_Condition_1: float (nullable = true)\n",
      " |-- Weather_Condition_2: float (nullable = true)\n",
      " |-- Irrigation_Used_0: float (nullable = true)\n",
      " |-- Irrigation_Used_1: float (nullable = true)\n",
      " |-- Fertilizer_Used_0: float (nullable = true)\n",
      " |-- Fertilizer_Used_1: float (nullable = true)\n",
      "\n",
      "+-----------+-------------------+---------------+----------------------+--------+--------+--------+--------+-----------+-----------+-----------+-----------+-----------+-----------+------+------+------+------+------+------+-------------------+-------------------+-------------------+-----------------+-----------------+-----------------+-----------------+--------------------+--------------------------+\n",
      "|Rainfall_mm|Temperature_Celsius|Days_to_Harvest|Yield_tons_per_hectare|Region_0|Region_1|Region_2|Region_3|Soil_Type_0|Soil_Type_1|Soil_Type_2|Soil_Type_3|Soil_Type_4|Soil_Type_5|Crop_0|Crop_1|Crop_2|Crop_3|Crop_4|Crop_5|Weather_Condition_0|Weather_Condition_1|Weather_Condition_2|Irrigation_Used_0|Irrigation_Used_1|Fertilizer_Used_0|Fertilizer_Used_1|Rainfall_mm_scaled  |Temperature_Celsius_scaled|\n",
      "+-----------+-------------------+---------------+----------------------+--------+--------+--------+--------+-----------+-----------+-----------+-----------+-----------+-----------+------+------+------+------+------+------+-------------------+-------------------+-------------------+-----------------+-----------------+-----------------+-----------------+--------------------+--------------------------+\n",
      "|199.38     |24.40539970164948  |77.0           |2.094286585378294     |1.0     |0.0     |0.0     |0.0     |0.0        |0.0        |0.0        |1.0        |0.0        |0.0        |0.0   |0.0   |0.0   |0.0   |0.0   |1.0   |0.0                |1.0                |0.0                |1.0              |0.0              |1.0              |0.0              |0.11042222222222221 |0.37621552157981664       |\n",
      "|124.6      |24.381639466718735 |125.0          |1.1297512768654394    |1.0     |0.0     |0.0     |0.0     |0.0        |0.0        |0.0        |0.0        |1.0        |0.0        |0.0   |0.0   |0.0   |0.0   |0.0   |1.0   |0.0                |1.0                |0.0                |1.0              |0.0              |1.0              |0.0              |0.027333333333333328|0.37526510991106266       |\n",
      "|983.48     |28.71469155885488  |104.0          |5.076176030917903     |0.0     |0.0     |0.0     |1.0     |1.0        |0.0        |0.0        |0.0        |0.0        |0.0        |0.0   |0.0   |0.0   |1.0   |0.0   |0.0   |0.0                |0.0                |1.0                |1.0              |0.0              |1.0              |0.0              |0.9816444444444444  |0.5485876078446276        |\n",
      "|966.01     |30.05385797634982  |111.0          |7.580681693272711     |0.0     |1.0     |0.0     |0.0     |0.0        |1.0        |0.0        |0.0        |0.0        |0.0        |1.0   |0.0   |0.0   |0.0   |0.0   |0.0   |0.0                |0.0                |1.0                |1.0              |0.0              |0.0              |1.0              |0.9622333333333333  |0.602154392571312         |\n",
      "|695.98     |34.24549234046966  |63.0           |5.428953786991077     |0.0     |0.0     |1.0     |0.0     |1.0        |0.0        |0.0        |0.0        |0.0        |0.0        |0.0   |0.0   |0.0   |0.0   |1.0   |0.0   |0.0                |0.0                |1.0                |0.0              |1.0              |1.0              |0.0              |0.6622              |0.7698201678644176        |\n",
      "|187.66     |39.91907966974373  |61.0           |1.615265486565069     |0.0     |1.0     |0.0     |0.0     |0.0        |0.0        |0.0        |0.0        |0.0        |1.0        |1.0   |0.0   |0.0   |0.0   |0.0   |0.0   |1.0                |0.0                |0.0                |1.0              |0.0              |1.0              |0.0              |0.0974              |0.996764203441248         |\n",
      "|587.66     |24.941431385687743 |148.0          |4.569341374451966     |1.0     |0.0     |0.0     |0.0     |0.0        |0.0        |1.0        |0.0        |0.0        |0.0        |0.0   |0.0   |0.0   |0.0   |0.0   |1.0   |0.0                |0.0                |1.0                |1.0              |0.0              |0.0              |1.0              |0.5418444444444445  |0.3976568401870078        |\n",
      "|108.59     |27.47844480097165  |113.0          |3.1682304849294423    |1.0     |0.0     |0.0     |0.0     |0.0        |0.0        |0.0        |1.0        |0.0        |0.0        |0.0   |0.0   |1.0   |0.0   |0.0   |0.0   |0.0                |1.0                |0.0                |0.0              |1.0              |0.0              |1.0              |0.009544444444444447|0.4991376193417292        |\n",
      "|281.2      |23.24407647499214  |120.0          |4.79947996474957      |1.0     |0.0     |0.0     |0.0     |0.0        |0.0        |1.0        |0.0        |0.0        |0.0        |0.0   |0.0   |1.0   |0.0   |0.0   |0.0   |0.0                |1.0                |0.0                |0.0              |1.0              |0.0              |1.0              |0.2013333333333333  |0.3297624814887877        |\n",
      "|361.13     |39.57869123010403  |103.0          |3.800454264444141     |0.0     |0.0     |1.0     |0.0     |0.0        |0.0        |0.0        |1.0        |0.0        |0.0        |0.0   |0.0   |0.0   |0.0   |0.0   |1.0   |0.0                |0.0                |1.0                |1.0              |0.0              |0.0              |1.0              |0.2901444444444444  |0.98314863331387          |\n",
      "|909.38     |37.89997365168666  |146.0          |6.488546019913596     |1.0     |0.0     |0.0     |0.0     |0.0        |0.0        |0.0        |1.0        |0.0        |0.0        |0.0   |0.0   |1.0   |0.0   |0.0   |0.0   |1.0                |0.0                |0.0                |0.0              |1.0              |1.0              |0.0              |0.8993111111111111  |0.915999769688544         |\n",
      "|913.18     |36.8829344816525   |74.0           |5.894561793219316     |0.0     |1.0     |0.0     |0.0     |0.0        |0.0        |0.0        |0.0        |0.0        |1.0        |0.0   |0.0   |0.0   |0.0   |1.0   |0.0   |0.0                |1.0                |0.0                |1.0              |0.0              |1.0              |0.0              |0.9035333333333333  |0.8753181056562757        |\n",
      "|118.46     |32.361525874317365 |145.0          |2.2560375272978828    |0.0     |0.0     |0.0     |1.0     |0.0        |0.0        |0.0        |0.0        |0.0        |1.0        |0.0   |0.0   |0.0   |0.0   |1.0   |0.0   |0.0                |1.0                |0.0                |1.0              |0.0              |1.0              |0.0              |0.020511111111111105|0.694461329107506         |\n",
      "|370.32     |32.561378855266334 |98.0           |2.566298815232999     |0.0     |0.0     |0.0     |1.0     |0.0        |0.0        |0.0        |1.0        |0.0        |0.0        |0.0   |0.0   |0.0   |0.0   |1.0   |0.0   |0.0                |1.0                |0.0                |1.0              |0.0              |1.0              |0.0              |0.30035555555555554 |0.7024554674517943        |\n",
      "|430.32     |20.584197247777784 |136.0          |4.273959402120014     |0.0     |0.0     |1.0     |0.0     |0.0        |0.0        |0.0        |0.0        |0.0        |1.0        |1.0   |0.0   |0.0   |0.0   |0.0   |0.0   |0.0                |0.0                |1.0                |1.0              |0.0              |0.0              |1.0              |0.3670222222222222  |0.22336705811064028       |\n",
      "|827.69     |20.935108153482737 |60.0           |5.365083786252706     |0.0     |0.0     |1.0     |0.0     |0.0        |0.0        |1.0        |0.0        |0.0        |0.0        |0.0   |0.0   |1.0   |0.0   |0.0   |0.0   |1.0                |0.0                |0.0                |1.0              |0.0              |0.0              |1.0              |0.8085444444444445  |0.23740352788659633       |\n",
      "|747.2      |22.79416273955264  |95.0           |5.259781235130286     |0.0     |0.0     |1.0     |0.0     |1.0        |0.0        |0.0        |0.0        |0.0        |0.0        |0.0   |1.0   |0.0   |0.0   |0.0   |0.0   |1.0                |0.0                |0.0                |1.0              |0.0              |0.0              |1.0              |0.7191111111111111  |0.31176588905858865       |\n",
      "|869.86     |16.15066599639205  |115.0          |7.494745290907316     |1.0     |0.0     |0.0     |0.0     |0.0        |0.0        |0.0        |1.0        |0.0        |0.0        |0.0   |0.0   |1.0   |0.0   |0.0   |0.0   |0.0                |1.0                |0.0                |0.0              |1.0              |0.0              |1.0              |0.8554              |0.04602538420109088       |\n",
      "|977.06     |23.425135526699545 |75.0           |7.147862287790495     |1.0     |0.0     |0.0     |0.0     |0.0        |1.0        |0.0        |0.0        |0.0        |0.0        |0.0   |0.0   |1.0   |0.0   |0.0   |0.0   |0.0                |0.0                |1.0                |1.0              |0.0              |0.0              |1.0              |0.974511111111111   |0.33700486086667764       |\n",
      "|401.32     |20.51486085433233  |103.0          |4.13646791323241      |0.0     |0.0     |1.0     |0.0     |0.0        |0.0        |0.0        |0.0        |1.0        |0.0        |0.0   |0.0   |1.0   |0.0   |0.0   |0.0   |0.0                |1.0                |0.0                |1.0              |0.0              |0.0              |1.0              |0.3348              |0.22059359574412946       |\n",
      "+-----------+-------------------+---------------+----------------------+--------+--------+--------+--------+-----------+-----------+-----------+-----------+-----------+-----------+------+------+------+------+------+------+-------------------+-------------------+-------------------+-----------------+-----------------+-----------------+-----------------+--------------------+--------------------------+\n",
      "only showing top 20 rows\n",
      "\n",
      "root\n",
      " |-- Rainfall_mm: double (nullable = true)\n",
      " |-- Temperature_Celsius: double (nullable = false)\n",
      " |-- Days_to_Harvest: double (nullable = true)\n",
      " |-- Yield_tons_per_hectare: double (nullable = false)\n",
      " |-- Region_0: float (nullable = true)\n",
      " |-- Region_1: float (nullable = true)\n",
      " |-- Region_2: float (nullable = true)\n",
      " |-- Region_3: float (nullable = true)\n",
      " |-- Soil_Type_0: float (nullable = true)\n",
      " |-- Soil_Type_1: float (nullable = true)\n",
      " |-- Soil_Type_2: float (nullable = true)\n",
      " |-- Soil_Type_3: float (nullable = true)\n",
      " |-- Soil_Type_4: float (nullable = true)\n",
      " |-- Soil_Type_5: float (nullable = true)\n",
      " |-- Crop_0: float (nullable = true)\n",
      " |-- Crop_1: float (nullable = true)\n",
      " |-- Crop_2: float (nullable = true)\n",
      " |-- Crop_3: float (nullable = true)\n",
      " |-- Crop_4: float (nullable = true)\n",
      " |-- Crop_5: float (nullable = true)\n",
      " |-- Weather_Condition_0: float (nullable = true)\n",
      " |-- Weather_Condition_1: float (nullable = true)\n",
      " |-- Weather_Condition_2: float (nullable = true)\n",
      " |-- Irrigation_Used_0: float (nullable = true)\n",
      " |-- Irrigation_Used_1: float (nullable = true)\n",
      " |-- Fertilizer_Used_0: float (nullable = true)\n",
      " |-- Fertilizer_Used_1: float (nullable = true)\n",
      " |-- Rainfall_mm_scaled: double (nullable = true)\n",
      " |-- Temperature_Celsius_scaled: double (nullable = true)\n",
      "\n"
     ]
    }
   ],
   "source": [
    "from pyspark.ml.feature import MinMaxScaler, VectorAssembler\n",
    "from pyspark.ml.functions import vector_to_array\n",
    "from pyspark.sql.functions import col, when\n",
    "\n",
    "# Define the columns to scale\n",
    "columns_to_scale = [\"Rainfall_mm\", \"Temperature_Celsius\"]\n",
    "\n",
    "# Step 1: Replace null values with 0.0 and cast to double\n",
    "for col_name in columns_to_scale:\n",
    "    encoded_df = encoded_df.withColumn(\n",
    "        col_name,\n",
    "        when(col(col_name).isNull(), 0.0).otherwise(col(col_name).cast(\"double\"))\n",
    "    )\n",
    "\n",
    "# Verify data types (optional)\n",
    "encoded_df.printSchema()\n",
    "\n",
    "# Step 2: Create a VectorAssembler to combine the columns into a single vector\n",
    "assembler = VectorAssembler(inputCols=columns_to_scale, outputCol=\"features_to_scale\")\n",
    "\n",
    "# Transform the DataFrame to add the 'features_to_scale' column\n",
    "df = assembler.transform(encoded_df)\n",
    "\n",
    "# Step 3: Initialize the MinMaxScaler\n",
    "scaler = MinMaxScaler(inputCol=\"features_to_scale\", outputCol=\"scaled_features\")\n",
    "\n",
    "# Step 4: Fit and transform the scaler to scale the features\n",
    "scaler_model = scaler.fit(df)\n",
    "scaled_df = scaler_model.transform(df)\n",
    "\n",
    "# Step 5: Convert the vector column to an array to extract individual elements\n",
    "scaled_df = scaled_df.withColumn(\"scaled_features_array\", vector_to_array(col(\"scaled_features\")))\n",
    "\n",
    "# Step 6: Extract the scaled features back into individual columns\n",
    "for i, col_name in enumerate(columns_to_scale):\n",
    "    scaled_df = scaled_df.withColumn(col_name + \"_scaled\", col(\"scaled_features_array\")[i])\n",
    "\n",
    "# Step 7: Drop intermediate columns (optional)\n",
    "scaled_df = scaled_df.drop(\"features_to_scale\", \"scaled_features\", \"scaled_features_array\")\n",
    "\n",
    "# Show the resulting DataFrame\n",
    "scaled_df.show(truncate=False)\n",
    "\n",
    "# Print schema to verify new scaled columns\n",
    "scaled_df.printSchema()\n"
   ]
  },
  {
   "cell_type": "code",
   "execution_count": 16,
   "metadata": {
    "colab": {
     "base_uri": "https://localhost:8080/"
    },
    "id": "P7MZFsAlg2zU",
    "outputId": "0f796ab9-a4c6-4904-b0a9-1a1610eb20ac"
   },
   "outputs": [
    {
     "name": "stdout",
     "output_type": "stream",
     "text": [
      "+-----------+-------------------+---------------+----------------------+--------+--------+--------+--------+-----------+-----------+-----------+-----------+-----------+-----------+------+------+------+------+------+------+-------------------+-------------------+-------------------+-----------------+-----------------+-----------------+-----------------+------------------+--------------------------+----+\n",
      "|Rainfall_mm|Temperature_Celsius|Days_to_Harvest|Yield_tons_per_hectare|Region_0|Region_1|Region_2|Region_3|Soil_Type_0|Soil_Type_1|Soil_Type_2|Soil_Type_3|Soil_Type_4|Soil_Type_5|Crop_0|Crop_1|Crop_2|Crop_3|Crop_4|Crop_5|Weather_Condition_0|Weather_Condition_1|Weather_Condition_2|Irrigation_Used_0|Irrigation_Used_1|Fertilizer_Used_0|Fertilizer_Used_1|Rainfall_mm_scaled|Temperature_Celsius_scaled|Rank|\n",
      "+-----------+-------------------+---------------+----------------------+--------+--------+--------+--------+-----------+-----------+-----------+-----------+-----------+-----------+------+------+------+------+------+------+-------------------+-------------------+-------------------+-----------------+-----------------+-----------------+-----------------+------------------+--------------------------+----+\n",
      "|     984.78|  33.35353391711987|          122.0|     9.258755498769514|     1.0|     0.0|     0.0|     0.0|        0.0|        0.0|        0.0|        1.0|        0.0|        0.0|   0.0|   1.0|   0.0|   0.0|   0.0|   0.0|                0.0|                1.0|                0.0|              0.0|              1.0|              0.0|              1.0|0.9830888888888889|        0.7341417456574841|   1|\n",
      "|     912.82|   36.3760873024967|           82.0|      9.25865865608534|     1.0|     0.0|     0.0|     0.0|        1.0|        0.0|        0.0|        0.0|        0.0|        0.0|   0.0|   0.0|   0.0|   0.0|   1.0|   0.0|                0.0|                0.0|                1.0|              0.0|              1.0|              0.0|              1.0|0.9031333333333333|         0.855044170034478|   2|\n",
      "|     913.66|  27.50591943284997|           79.0|      9.25610798069476|     1.0|     0.0|     0.0|     0.0|        0.0|        0.0|        1.0|        0.0|        0.0|        0.0|   0.0|   0.0|   1.0|   0.0|   0.0|   0.0|                0.0|                0.0|                1.0|              0.0|              1.0|              0.0|              1.0|0.9040666666666667|        0.5002366072434896|   3|\n",
      "|     550.06|  37.23374186855991|          129.0|     9.255907359093506|     1.0|     0.0|     0.0|     0.0|        0.0|        0.0|        0.0|        0.0|        1.0|        0.0|   0.0|   0.0|   0.0|   0.0|   1.0|   0.0|                0.0|                0.0|                1.0|              0.0|              1.0|              0.0|              1.0|0.5000666666666667|        0.8893504346704335|   4|\n",
      "|     860.04|  38.35361583930154|           87.0|     9.253531900359135|     1.0|     0.0|     0.0|     0.0|        0.0|        0.0|        1.0|        0.0|        0.0|        0.0|   0.0|   1.0|   0.0|   0.0|   0.0|   0.0|                1.0|                0.0|                0.0|              0.0|              1.0|              0.0|              1.0|0.8444888888888888|        0.9341455005622055|   5|\n",
      "|      919.3| 17.788186075125203|          126.0|     9.250640617642558|     1.0|     0.0|     0.0|     0.0|        1.0|        0.0|        0.0|        0.0|        0.0|        0.0|   0.0|   0.0|   0.0|   1.0|   0.0|   0.0|                0.0|                1.0|                0.0|              0.0|              1.0|              0.0|              1.0|0.9103333333333333|       0.11152634390048799|   6|\n",
      "|     980.65|  22.36771237748209|          146.0|     9.246925108124175|     1.0|     0.0|     0.0|     0.0|        0.0|        1.0|        0.0|        0.0|        0.0|        0.0|   1.0|   0.0|   0.0|   0.0|   0.0|   0.0|                0.0|                0.0|                1.0|              0.0|              1.0|              0.0|              1.0|0.9784999999999999|        0.2947078338062913|   7|\n",
      "|     982.62|  25.96620256410709|          133.0|     9.244918004265534|     1.0|     0.0|     0.0|     0.0|        0.0|        0.0|        0.0|        0.0|        0.0|        1.0|   0.0|   1.0|   0.0|   0.0|   0.0|   0.0|                0.0|                0.0|                1.0|              0.0|              1.0|              0.0|              1.0|0.9806888888888889|        0.4386477852938785|   8|\n",
      "|     959.02| 31.349367438940966|           96.0|     9.240003548524866|     1.0|     0.0|     0.0|     0.0|        1.0|        0.0|        0.0|        0.0|        0.0|        0.0|   0.0|   0.0|   0.0|   0.0|   1.0|   0.0|                0.0|                1.0|                0.0|              0.0|              1.0|              0.0|              1.0|0.9544666666666667|        0.6539748949281556|   9|\n",
      "|     994.97| 17.275941085304233|          122.0|     9.237991820666258|     1.0|     0.0|     0.0|     0.0|        1.0|        0.0|        0.0|        0.0|        0.0|        0.0|   0.0|   1.0|   0.0|   0.0|   0.0|   0.0|                0.0|                1.0|                0.0|              0.0|              1.0|              0.0|              1.0|0.9944111111111111|        0.0910364953360423|  10|\n",
      "|      980.7| 28.069532905702157|          136.0|     9.235961390764556|     1.0|     0.0|     0.0|     0.0|        1.0|        0.0|        0.0|        0.0|        0.0|        0.0|   0.0|   0.0|   0.0|   0.0|   0.0|   1.0|                0.0|                1.0|                0.0|              0.0|              1.0|              0.0|              1.0|0.9785555555555556|        0.5227812000401098|  11|\n",
      "|      959.7|  24.44531938644772|           93.0|     9.233666435673372|     1.0|     0.0|     0.0|     0.0|        0.0|        0.0|        1.0|        0.0|        0.0|        0.0|   0.0|   0.0|   0.0|   0.0|   0.0|   1.0|                0.0|                1.0|                0.0|              0.0|              1.0|              0.0|              1.0|0.9552222222222223|       0.37781231278814503|  12|\n",
      "|     994.23|  34.38907930400619|          117.0|      9.23106382262218|     1.0|     0.0|     0.0|     0.0|        0.0|        0.0|        0.0|        0.0|        0.0|        1.0|   0.0|   1.0|   0.0|   0.0|   0.0|   0.0|                0.0|                0.0|                1.0|              0.0|              1.0|              0.0|              1.0|0.9935888888888889|        0.7755636601330688|  13|\n",
      "|     984.11|  22.20130277589471|          117.0|     9.231027263130455|     1.0|     0.0|     0.0|     0.0|        0.0|        1.0|        0.0|        0.0|        0.0|        0.0|   0.0|   0.0|   0.0|   1.0|   0.0|   0.0|                0.0|                1.0|                0.0|              0.0|              1.0|              0.0|              1.0|0.9823444444444445|       0.28805143383371795|  14|\n",
      "|     985.02|  39.64195806901752|           63.0|     9.228477653499764|     1.0|     0.0|     0.0|     0.0|        0.0|        0.0|        0.0|        0.0|        1.0|        0.0|   0.0|   0.0|   0.0|   0.0|   1.0|   0.0|                0.0|                0.0|                1.0|              0.0|              1.0|              0.0|              1.0|0.9833555555555555|        0.9856793129188413|  15|\n",
      "|     877.36| 38.176692350923965|           92.0|     9.226797513376104|     1.0|     0.0|     0.0|     0.0|        1.0|        0.0|        0.0|        0.0|        0.0|        0.0|   0.0|   1.0|   0.0|   0.0|   0.0|   0.0|                0.0|                0.0|                1.0|              0.0|              1.0|              0.0|              1.0|0.8637333333333334|        0.9270685441128765|  16|\n",
      "|      986.3|  27.50591943284997|          114.0|      9.22460470695388|     1.0|     0.0|     0.0|     0.0|        0.0|        0.0|        0.0|        0.0|        1.0|        0.0|   0.0|   0.0|   1.0|   0.0|   0.0|   0.0|                0.0|                0.0|                1.0|              0.0|              1.0|              0.0|              1.0|0.9847777777777778|        0.5002366072434896|  17|\n",
      "|     993.84|  31.26998939911332|          101.0|     9.224416071543098|     1.0|     0.0|     0.0|     0.0|        0.0|        0.0|        0.0|        0.0|        0.0|        1.0|   0.0|   0.0|   0.0|   0.0|   1.0|   0.0|                0.0|                0.0|                1.0|              0.0|              1.0|              0.0|              1.0|0.9931555555555556|        0.6507997657463565|  18|\n",
      "|      968.0|  39.80392292776014|          134.0|      9.21936225019924|     1.0|     0.0|     0.0|     0.0|        1.0|        0.0|        0.0|        0.0|        0.0|        0.0|   0.0|   0.0|   0.0|   1.0|   0.0|   0.0|                0.0|                0.0|                1.0|              0.0|              1.0|              0.0|              1.0|0.9644444444444444|        0.9921579227526983|  19|\n",
      "|     993.85| 29.802496568949323|           92.0|     9.216715961974796|     1.0|     0.0|     0.0|     0.0|        0.0|        1.0|        0.0|        0.0|        0.0|        0.0|   0.0|   0.0|   1.0|   0.0|   0.0|   0.0|                1.0|                0.0|                0.0|              0.0|              1.0|              0.0|              1.0|0.9931666666666666|        0.5920999122446577|  20|\n",
      "+-----------+-------------------+---------------+----------------------+--------+--------+--------+--------+-----------+-----------+-----------+-----------+-----------+-----------+------+------+------+------+------+------+-------------------+-------------------+-------------------+-----------------+-----------------+-----------------+-----------------+------------------+--------------------------+----+\n",
      "only showing top 20 rows\n",
      "\n"
     ]
    }
   ],
   "source": [
    "from pyspark.sql import functions as F\n",
    "from pyspark.sql.window import Window\n",
    "\n",
    "window_spec = Window.partitionBy(\"Region_0\").orderBy(F.desc(\"Yield_tons_per_hectare\"))\n",
    "df = scaled_df.withColumn(\"Rank\", F.rank().over(window_spec))\n",
    "df.show()\n"
   ]
  },
  {
   "cell_type": "markdown",
   "metadata": {
    "id": "cmdCIRxfvQwl"
   },
   "source": [
    "Part 2"
   ]
  },
  {
   "cell_type": "code",
   "execution_count": 17,
   "metadata": {
    "colab": {
     "base_uri": "https://localhost:8080/"
    },
    "id": "ooPDn-6DvPxc",
    "outputId": "e241d4e2-dcee-48b0-c26d-edc669d99efe"
   },
   "outputs": [
    {
     "name": "stdout",
     "output_type": "stream",
     "text": [
      "Feature Summary:\n",
      "+-------+------------------+-------------------+------------------+------------------+-------------------+------------------+------------------+-------------------+-------------------+-------------------+-------------------+-------------------+-------------------+-------------------+------------------+------------------+-------------------+-------------------+-------------------+-------------------+-------------------+-------------------+-------------------+-------------------+------------------+------------------+------------------+--------------------------+\n",
      "|summary|       Rainfall_mm|Temperature_Celsius|   Days_to_Harvest|          Region_0|           Region_1|          Region_2|          Region_3|        Soil_Type_0|        Soil_Type_1|        Soil_Type_2|        Soil_Type_3|        Soil_Type_4|        Soil_Type_5|             Crop_0|            Crop_1|            Crop_2|             Crop_3|             Crop_4|             Crop_5|Weather_Condition_0|Weather_Condition_1|Weather_Condition_2|  Irrigation_Used_0|  Irrigation_Used_1| Fertilizer_Used_0| Fertilizer_Used_1|Rainfall_mm_scaled|Temperature_Celsius_scaled|\n",
      "+-------+------------------+-------------------+------------------+------------------+-------------------+------------------+------------------+-------------------+-------------------+-------------------+-------------------+-------------------+-------------------+-------------------+------------------+------------------+-------------------+-------------------+-------------------+-------------------+-------------------+-------------------+-------------------+-------------------+------------------+------------------+------------------+--------------------------+\n",
      "|  count|            999568|             999568|            949592|            999568|             999568|            999568|            999568|             999568|             999568|             999568|             999568|             999568|             999568|             999568|            999568|            999568|             999568|             999568|             999568|             999568|             999568|             999568|             999568|             999568|            999568|            999568|            999568|                    999568|\n",
      "|   mean| 550.0218080210678| 27.504783981253606|104.49813077616493|0.2501710739039265|0.25007003025306934|0.2500630272277624|0.2496958686152418|0.16712919981431978|0.16680205848926735|0.16677304595585293|  0.166678004898116| 0.1663348566580763|0.16628283418436765|0.16682606886174828|0.1667870520064668|0.1667640420661726|0.16667100187280906|0.16658696556912586|0.16636486962367744|0.33378619563651496| 0.3335600979623197| 0.3326537064011653| 0.5005372320842604| 0.4994627679157396|0.5000890384646167|0.4999109615353833|0.5000242311345462|        0.5001911890710042|\n",
      "| stddev|253.19519987695924|  7.037104707991318|25.953899029177965|0.4331116430580571| 0.4330533429481249|0.4330493011819732|0.4328371856029931| 0.3730913690251679| 0.3727992366037599| 0.3727733039240515|0.37268832358676807|0.37238113653386745|0.37233451617180086|0.37282069506027454|0.3727858236558761|0.3727652550250812| 0.3726820601524416|  0.372606880461818|0.37240802693611696|0.47156462304578994|0.47148486869012335| 0.4711639206370916|0.49999996148969533|0.49999996148969533|0.5000002421803824|0.5000002421803825|0.2813279998632884|       0.28148486108040616|\n",
      "|    min|             100.0| 15.000034141430271|              60.0|               0.0|                0.0|               0.0|               0.0|                0.0|                0.0|                0.0|                0.0|                0.0|                0.0|                0.0|               0.0|               0.0|                0.0|                0.0|                0.0|                0.0|                0.0|                0.0|                0.0|                0.0|               0.0|               0.0|               0.0|                       0.0|\n",
      "|    max|            1000.0| 39.999974390370255|             149.0|               1.0|                1.0|               1.0|               1.0|                1.0|                1.0|                1.0|                1.0|                1.0|                1.0|                1.0|               1.0|               1.0|                1.0|                1.0|                1.0|                1.0|                1.0|                1.0|                1.0|                1.0|               1.0|               1.0|               1.0|                       1.0|\n",
      "+-------+------------------+-------------------+------------------+------------------+-------------------+------------------+------------------+-------------------+-------------------+-------------------+-------------------+-------------------+-------------------+-------------------+------------------+------------------+-------------------+-------------------+-------------------+-------------------+-------------------+-------------------+-------------------+-------------------+------------------+------------------+------------------+--------------------------+\n",
      "\n",
      "Target Summary:\n",
      "+-------+----------------------+\n",
      "|summary|Yield_tons_per_hectare|\n",
      "+-------+----------------------+\n",
      "|  count|                999568|\n",
      "|   mean|     4.649994692258641|\n",
      "| stddev|    1.6511583458810728|\n",
      "|    min|   -0.0340507366866021|\n",
      "|    max|     9.263405300815894|\n",
      "+-------+----------------------+\n",
      "\n"
     ]
    }
   ],
   "source": [
    "from pyspark.sql.functions import col\n",
    "\n",
    "# Separate features (X) by dropping the target column\n",
    "X = scaled_df.drop(\"Yield_tons_per_hectare\")\n",
    "\n",
    "# Select the target column (Y)\n",
    "Y = scaled_df.select(\"Yield_tons_per_hectare\")\n",
    "\n",
    "# Show summary statistics for features\n",
    "print(\"Feature Summary:\")\n",
    "X.describe().show()\n",
    "\n",
    "# Show summary statistics for the target variable\n",
    "print(\"Target Summary:\")\n",
    "Y.describe().show()"
   ]
  },
  {
   "cell_type": "code",
   "execution_count": 18,
   "metadata": {
    "id": "hu6M_r011u_I"
   },
   "outputs": [
    {
     "name": "stdout",
     "output_type": "stream",
     "text": [
      "+----------------------------------------------------------------------------------------------------------------------------------------------------------------------------------------------------------------------------------------------------------------------------------------------------------------------------------------------------------------------------------------------------------------------------------------------------------------------------------------------------------------------------------------------------------------------------------+------------------+\n",
      "|scaled_features                                                                                                                                                                                                                                                                                                                                                                                                                                                                                                                                                                   |label             |\n",
      "+----------------------------------------------------------------------------------------------------------------------------------------------------------------------------------------------------------------------------------------------------------------------------------------------------------------------------------------------------------------------------------------------------------------------------------------------------------------------------------------------------------------------------------------------------------------------------------+------------------+\n",
      "|[-1.4692422726084207,-1.6057579674517366,-0.7715310854481368,1.729416440009935,-0.5773147828993003,-0.5772839880169877,-0.5765718560144497,2.230846266457793,-0.4468070347974246,-0.44763624103892186,-0.4471935247745417,-0.44684125976866473,-0.4465412581097654,2.236668886429178,-0.4476000242719764,-0.44738270320214674,-0.44720157546358413,-0.4472217019748243,-0.44678086216917834,1.4123001653728229,-0.7072581657634666,-0.7059974723304295,0.999735635156557,-0.9997356351565568,0.9999106206142596,-0.9999106206142597,-1.4692422726084338,-1.6057579674517262]      |1.5549826124872648|\n",
      "|[-1.3422100930426097,0.11449890423428027,0.9028221220463197,1.729416440009935,-0.5773147828993003,-0.5772839880169877,-0.5765718560144497,2.230846266457793,-0.4468070347974246,-0.44763624103892186,-0.4471935247745417,-0.44684125976866473,-0.4465412581097654,2.236668886429178,-0.4476000242719764,-0.44738270320214674,-0.44720157546358413,-0.4472217019748243,-0.44678086216917834,1.4123001653728229,-0.7072581657634666,-0.7059974723304295,0.999735635156557,-0.9997356351565568,0.9999106206142596,-0.9999106206142597,-1.342210093042623,0.1144989042342865]         |1.4074412927850934|\n",
      "|[-1.190924879194023,-1.5532491761087044,0.4328282392408582,1.729416440009935,-0.5773147828993003,-0.5772839880169877,-0.5765718560144497,2.230846266457793,-0.4468070347974246,-0.44763624103892186,-0.4471935247745417,-0.44684125976866473,-0.4465412581097654,2.236668886429178,-0.4476000242719764,-0.44738270320214674,-0.44720157546358413,-0.4472217019748243,-0.44678086216917834,1.4123001653728229,-0.7072581657634666,-0.7059974723304295,0.999735635156557,-0.9997356351565568,0.9999106206142596,-0.9999106206142597,-1.1909248791940363,-1.553249176108694]         |1.5342374684962026|\n",
      "|[-1.1418658098467787,1.5774109654777386,-0.536534144045406,1.729416440009935,-0.5773147828993003,-0.5772839880169877,-0.5765718560144497,2.230846266457793,-0.4468070347974246,-0.44763624103892186,-0.4471935247745417,-0.44684125976866473,-0.4465412581097654,2.236668886429178,-0.4476000242719764,-0.44738270320214674,-0.44720157546358413,-0.4472217019748243,-0.44678086216917834,1.4123001653728229,-0.7072581657634666,-0.7059974723304295,0.999735635156557,-0.9997356351565568,0.9999106206142596,-0.9999106206142597,-1.1418658098467924,1.5774109654777415]         |1.6602257524187345|\n",
      "|[-1.1125962684729398,1.5272059700189735,0.9028221220463197,1.729416440009935,-0.5773147828993003,-0.5772839880169877,-0.5765718560144497,2.230846266457793,-0.4468070347974246,-0.44763624103892186,-0.4471935247745417,-0.44684125976866473,-0.4465412581097654,2.236668886429178,-0.4476000242719764,-0.44738270320214674,-0.44720157546358413,-0.4472217019748243,-0.44678086216917834,1.4123001653728229,-0.7072581657634666,-0.7059974723304295,0.999735635156557,-0.9997356351565568,0.9999106206142596,-0.9999106206142597,-1.1125962684729533,1.5272059700189766]         |1.97473361905     |\n",
      "|[-0.7181092108473944,0.2238365376091886,0.13908206248744484,1.729416440009935,-0.5773147828993003,-0.5772839880169877,-0.5765718560144497,2.230846266457793,-0.4468070347974246,-0.44763624103892186,-0.4471935247745417,-0.44684125976866473,-0.4465412581097654,2.236668886429178,-0.4476000242719764,-0.44738270320214674,-0.44720157546358413,-0.4472217019748243,-0.44678086216917834,1.4123001653728229,-0.7072581657634666,-0.7059974723304295,0.999735635156557,-0.9997356351565568,0.9999106206142596,-0.9999106206142597,-0.7181092108474088,0.22383653760919445]       |1.9348586378218773|\n",
      "|[-0.403333265897162,-1.4809355937209274,1.1671936811243917,1.729416440009935,-0.5773147828993003,-0.5772839880169877,-0.5765718560144497,2.230846266457793,-0.4468070347974246,-0.44763624103892186,-0.4471935247745417,-0.44684125976866473,-0.4465412581097654,2.236668886429178,-0.4476000242719764,-0.44738270320214674,-0.44720157546358413,-0.4472217019748243,-0.44678086216917834,1.4123001653728229,-0.7072581657634666,-0.7059974723304295,0.999735635156557,-0.9997356351565568,0.9999106206142596,-0.9999106206142597,-0.40333326589717705,-1.480935593720917]        |2.633867548962048 |\n",
      "|[-0.36600571313295455,-0.42804105329921943,-1.1240264975522327,1.729416440009935,-0.5773147828993003,-0.5772839880169877,-0.5765718560144497,2.230846266457793,-0.4468070347974246,-0.44763624103892186,-0.4471935247745417,-0.44684125976866473,-0.4465412581097654,2.236668886429178,-0.4476000242719764,-0.44738270320214674,-0.44720157546358413,-0.4472217019748243,-0.44678086216917834,1.4123001653728229,-0.7072581657634666,-0.7059974723304295,0.999735635156557,-0.9997356351565568,0.9999106206142596,-0.9999106206142597,-0.3660057131329696,-0.42804105329921177]   |2.729496735063925 |\n",
      "|[-0.08298781307417503,0.0044315915058834735,-0.8302803207988194,1.729416440009935,-0.5773147828993003,-0.5772839880169877,-0.5765718560144497,2.230846266457793,-0.4468070347974246,-0.44763624103892186,-0.4471935247745417,-0.44684125976866473,-0.4465412581097654,2.236668886429178,-0.4476000242719764,-0.44738270320214674,-0.44720157546358413,-0.4472217019748243,-0.44678086216917834,1.4123001653728229,-0.7072581657634666,-0.7059974723304295,0.999735635156557,-0.9997356351565568,0.9999106206142596,-0.9999106206142597,-0.08298781307419059,0.00443159150589011]  |4.7147429127658125|\n",
      "|[-3.536962670618717E-4,4.342831228033656E-4,0.4328282392408582,1.729416440009935,-0.5773147828993003,-0.5772839880169877,-0.5765718560144497,2.230846266457793,-0.4468070347974246,-0.44763624103892186,-0.4471935247745417,-0.44684125976866473,-0.4465412581097654,2.236668886429178,-0.4476000242719764,-0.44738270320214674,-0.44720157546358413,-0.4472217019748243,-0.44678086216917834,1.4123001653728229,-0.7072581657634666,-0.7059974723304295,0.999735635156557,-0.9997356351565568,0.9999106206142596,-0.9999106206142597,-3.536962670773761E-4,4.3428312280980523E-4]|0.5431669964015811|\n",
      "|[0.020739333548903126,-0.25282239653463123,-0.44841029101938196,1.729416440009935,-0.5773147828993003,-0.5772839880169877,-0.5765718560144497,2.230846266457793,-0.4468070347974246,-0.44763624103892186,-0.4471935247745417,-0.44684125976866473,-0.4465412581097654,2.236668886429178,-0.4476000242719764,-0.44738270320214674,-0.44720157546358413,-0.4472217019748243,-0.44678086216917834,1.4123001653728229,-0.7072581657634666,-0.7059974723304295,0.999735635156557,-0.9997356351565568,0.9999106206142596,-0.9999106206142597,0.020739333548887504,-0.25282239653462407] |3.162022860082097 |\n",
      "|[0.24632415242338893,0.30743013456374507,0.5209520922668822,1.729416440009935,-0.5773147828993003,-0.5772839880169877,-0.5765718560144497,2.230846266457793,-0.4468070347974246,-0.44763624103892186,-0.4471935247745417,-0.44684125976866473,-0.4465412581097654,2.236668886429178,-0.4476000242719764,-0.44738270320214674,-0.44720157546358413,-0.4472217019748243,-0.44678086216917834,1.4123001653728229,-0.7072581657634666,-0.7059974723304295,0.999735635156557,-0.9997356351565568,0.9999106206142596,-0.9999106206142597,0.2463241524233726,0.30743013456375085]        |3.3190978879467665|\n",
      "|[0.32808926800212934,0.7474034073377622,-0.36028643799335797,1.729416440009935,-0.5773147828993003,-0.5772839880169877,-0.5765718560144497,2.230846266457793,-0.4468070347974246,-0.44763624103892186,-0.4471935247745417,-0.44684125976866473,-0.4465412581097654,2.236668886429178,-0.4476000242719764,-0.44738270320214674,-0.44720157546358413,-0.4472217019748243,-0.44678086216917834,1.4123001653728229,-0.7072581657634666,-0.7059974723304295,0.999735635156557,-0.9997356351565568,0.9999106206142596,-0.9999106206142597,0.3280892680021132,0.747403407337767]         |3.3715455264093284|\n",
      "|[0.5774926205452046,-0.6078840255857842,0.2859551508641515,1.729416440009935,-0.5773147828993003,-0.5772839880169877,-0.5765718560144497,2.230846266457793,-0.4468070347974246,-0.44763624103892186,-0.4471935247745417,-0.44684125976866473,-0.4465412581097654,2.236668886429178,-0.4476000242719764,-0.44738270320214674,-0.44720157546358413,-0.4472217019748243,-0.44678086216917834,1.4123001653728229,-0.7072581657634666,-0.7059974723304295,0.999735635156557,-0.9997356351565568,0.9999106206142596,-0.9999106206142597,0.5774926205451879,-0.6078840255857761]         |3.718907915290696 |\n",
      "|[0.7230108262418613,-0.12532261829132102,-0.712781850097454,1.729416440009935,-0.5773147828993003,-0.5772839880169877,-0.5765718560144497,2.230846266457793,-0.4468070347974246,-0.44763624103892186,-0.4471935247745417,-0.44684125976866473,-0.4465412581097654,2.236668886429178,-0.4476000242719764,-0.44738270320214674,-0.44720157546358413,-0.4472217019748243,-0.44678086216917834,1.4123001653728229,-0.7072581657634666,-0.7059974723304295,0.999735635156557,-0.9997356351565568,0.9999106206142596,-0.9999106206142597,0.7230108262418444,-0.12532261829131416]       |3.2811841651636544|\n",
      "|[0.875639041988843,-0.8953116455837482,0.16845668016278617,1.729416440009935,-0.5773147828993003,-0.5772839880169877,-0.5765718560144497,2.230846266457793,-0.4468070347974246,-0.44763624103892186,-0.4471935247745417,-0.44684125976866473,-0.4465412581097654,2.236668886429178,-0.4476000242719764,-0.44738270320214674,-0.44720157546358413,-0.4472217019748243,-0.44678086216917834,1.4123001653728229,-0.7072581657634666,-0.7059974723304295,0.999735635156557,-0.9997356351565568,0.9999106206142596,-0.9999106206142597,0.8756390419888257,-0.8953116455837393]         |4.756459309219823 |\n",
      "|[0.9370221287566508,0.6061721864973986,0.19783129783812753,1.729416440009935,-0.5773147828993003,-0.5772839880169877,-0.5765718560144497,2.230846266457793,-0.4468070347974246,-0.44763624103892186,-0.4471935247745417,-0.44684125976866473,-0.4465412581097654,2.236668886429178,-0.4476000242719764,-0.44738270320214674,-0.44720157546358413,-0.4472217019748243,-0.44678086216917834,1.4123001653728229,-0.7072581657634666,-0.7059974723304295,0.999735635156557,-0.9997356351565568,0.9999106206142596,-0.9999106206142597,0.9370221287566334,0.6061721864974039]          |4.87147533434263  |\n",
      "|[0.981064691012832,-1.0110540032554347,-0.5952833793960887,1.729416440009935,-0.5773147828993003,-0.5772839880169877,-0.5765718560144497,2.230846266457793,-0.4468070347974246,-0.44763624103892186,-0.4471935247745417,-0.44684125976866473,-0.4465412581097654,2.236668886429178,-0.4476000242719764,-0.44738270320214674,-0.44720157546358413,-0.4472217019748243,-0.44678086216917834,1.4123001653728229,-0.7072581657634666,-0.7059974723304295,0.999735635156557,-0.9997356351565568,0.9999106206142596,-0.9999106206142597,0.9810646910128147,-1.0110540032554258]         |4.475398685392358 |\n",
      "|[1.0221842491372128,4.342831228033656E-4,-0.4777849086947233,1.729416440009935,-0.5773147828993003,-0.5772839880169877,-0.5765718560144497,2.230846266457793,-0.4468070347974246,-0.44763624103892186,-0.4471935247745417,-0.44684125976866473,-0.4465412581097654,2.236668886429178,-0.4476000242719764,-0.44738270320214674,-0.44720157546358413,-0.4472217019748243,-0.44678086216917834,1.4123001653728229,-0.7072581657634666,-0.7059974723304295,0.999735635156557,-0.9997356351565568,0.9999106206142596,-0.9999106206142597,1.0221842491371953,4.3428312280980523E-4]     |4.687749914142603 |\n",
      "|[1.0942323509805085,-1.7325244245806022,-0.7421564677727954,1.729416440009935,-0.5773147828993003,-0.5772839880169877,-0.5765718560144497,2.230846266457793,-0.4468070347974246,-0.44763624103892186,-0.4471935247745417,-0.44684125976866473,-0.4465412581097654,2.236668886429178,-0.4476000242719764,-0.44738270320214674,-0.44720157546358413,-0.4472217019748243,-0.44678086216917834,1.4123001653728229,-0.7072581657634666,-0.7059974723304295,0.999735635156557,-0.9997356351565568,0.9999106206142596,-0.9999106206142597,1.094232350980491,-1.7325244245805913]         |4.027291756857001 |\n",
      "+----------------------------------------------------------------------------------------------------------------------------------------------------------------------------------------------------------------------------------------------------------------------------------------------------------------------------------------------------------------------------------------------------------------------------------------------------------------------------------------------------------------------------------------------------------------------------------+------------------+\n",
      "only showing top 20 rows\n",
      "\n"
     ]
    }
   ],
   "source": [
    "from pyspark.ml.feature import VectorAssembler, StandardScaler\n",
    "from pyspark.sql.functions import col, when\n",
    "\n",
    "# Step 1: Ensure all feature columns have valid numeric data\n",
    "feature_columns = [col for col in scaled_df.columns if col != \"Yield_tons_per_hectare\"]\n",
    "for feature in feature_columns:\n",
    "    scaled_df = scaled_df.withColumn(feature, when(col(feature).isNull(), 0.0).otherwise(col(feature).cast(\"double\")))\n",
    "\n",
    "# Step 2: Combine features into a single vector column\n",
    "assembler = VectorAssembler(inputCols=feature_columns, outputCol=\"features\")\n",
    "dataset = assembler.transform(scaled_df).select(\"features\", col(\"Yield_tons_per_hectare\").alias(\"label\"))\n",
    "\n",
    "# Step 3: Split the dataset into training and testing sets\n",
    "train_df, test_df = dataset.randomSplit([0.8, 0.2], seed=42)\n",
    "\n",
    "# Step 4: Scale the features\n",
    "scaler = StandardScaler(inputCol=\"features\", outputCol=\"scaled_features\", withMean=True, withStd=True)\n",
    "\n",
    "# Fit the scaler on the training set\n",
    "scaler_model = scaler.fit(train_df)\n",
    "\n",
    "# Transform the training and testing datasets\n",
    "train_df = scaler_model.transform(train_df).select(\"scaled_features\", \"label\")\n",
    "test_df = scaler_model.transform(test_df).select(\"scaled_features\", \"label\")\n",
    "\n",
    "# Display the processed training dataset\n",
    "train_df.show(truncate=False)\n"
   ]
  },
  {
   "cell_type": "code",
   "execution_count": 19,
   "metadata": {
    "colab": {
     "base_uri": "https://localhost:8080/"
    },
    "id": "63L5jrFIa4Qi",
    "outputId": "106d83af-be26-4874-fd22-7dbae2668dd4"
   },
   "outputs": [
    {
     "name": "stdout",
     "output_type": "stream",
     "text": [
      "Train DataFrame Schema:\n",
      "root\n",
      " |-- scaled_features: vector (nullable = true)\n",
      " |-- label: double (nullable = false)\n",
      "\n",
      "Test DataFrame Schema:\n",
      "root\n",
      " |-- scaled_features: vector (nullable = true)\n",
      " |-- label: double (nullable = false)\n",
      "\n",
      "Train DataFrame Sample:\n",
      "+----------------------------------------------------------------------------------------------------------------------------------------------------------------------------------------------------------------------------------------------------------------------------------------------------------------------------------------------------------------------------------------------------------------------------------------------------------------------------------------------------------------------------------------------------------------------------+------------------+\n",
      "|scaled_features                                                                                                                                                                                                                                                                                                                                                                                                                                                                                                                                                             |label             |\n",
      "+----------------------------------------------------------------------------------------------------------------------------------------------------------------------------------------------------------------------------------------------------------------------------------------------------------------------------------------------------------------------------------------------------------------------------------------------------------------------------------------------------------------------------------------------------------------------------+------------------+\n",
      "|[-1.4692422726084207,-1.6057579674517366,-0.7715310854481368,1.729416440009935,-0.5773147828993003,-0.5772839880169877,-0.5765718560144497,2.230846266457793,-0.4468070347974246,-0.44763624103892186,-0.4471935247745417,-0.44684125976866473,-0.4465412581097654,2.236668886429178,-0.4476000242719764,-0.44738270320214674,-0.44720157546358413,-0.4472217019748243,-0.44678086216917834,1.4123001653728229,-0.7072581657634666,-0.7059974723304295,0.999735635156557,-0.9997356351565568,0.9999106206142596,-0.9999106206142597,-1.4692422726084338,-1.6057579674517262]|1.5549826124872648|\n",
      "|[-1.3422100930426097,0.11449890423428027,0.9028221220463197,1.729416440009935,-0.5773147828993003,-0.5772839880169877,-0.5765718560144497,2.230846266457793,-0.4468070347974246,-0.44763624103892186,-0.4471935247745417,-0.44684125976866473,-0.4465412581097654,2.236668886429178,-0.4476000242719764,-0.44738270320214674,-0.44720157546358413,-0.4472217019748243,-0.44678086216917834,1.4123001653728229,-0.7072581657634666,-0.7059974723304295,0.999735635156557,-0.9997356351565568,0.9999106206142596,-0.9999106206142597,-1.342210093042623,0.1144989042342865]   |1.4074412927850934|\n",
      "|[-1.190924879194023,-1.5532491761087044,0.4328282392408582,1.729416440009935,-0.5773147828993003,-0.5772839880169877,-0.5765718560144497,2.230846266457793,-0.4468070347974246,-0.44763624103892186,-0.4471935247745417,-0.44684125976866473,-0.4465412581097654,2.236668886429178,-0.4476000242719764,-0.44738270320214674,-0.44720157546358413,-0.4472217019748243,-0.44678086216917834,1.4123001653728229,-0.7072581657634666,-0.7059974723304295,0.999735635156557,-0.9997356351565568,0.9999106206142596,-0.9999106206142597,-1.1909248791940363,-1.553249176108694]   |1.5342374684962026|\n",
      "|[-1.1418658098467787,1.5774109654777386,-0.536534144045406,1.729416440009935,-0.5773147828993003,-0.5772839880169877,-0.5765718560144497,2.230846266457793,-0.4468070347974246,-0.44763624103892186,-0.4471935247745417,-0.44684125976866473,-0.4465412581097654,2.236668886429178,-0.4476000242719764,-0.44738270320214674,-0.44720157546358413,-0.4472217019748243,-0.44678086216917834,1.4123001653728229,-0.7072581657634666,-0.7059974723304295,0.999735635156557,-0.9997356351565568,0.9999106206142596,-0.9999106206142597,-1.1418658098467924,1.5774109654777415]   |1.6602257524187345|\n",
      "|[-1.1125962684729398,1.5272059700189735,0.9028221220463197,1.729416440009935,-0.5773147828993003,-0.5772839880169877,-0.5765718560144497,2.230846266457793,-0.4468070347974246,-0.44763624103892186,-0.4471935247745417,-0.44684125976866473,-0.4465412581097654,2.236668886429178,-0.4476000242719764,-0.44738270320214674,-0.44720157546358413,-0.4472217019748243,-0.44678086216917834,1.4123001653728229,-0.7072581657634666,-0.7059974723304295,0.999735635156557,-0.9997356351565568,0.9999106206142596,-0.9999106206142597,-1.1125962684729533,1.5272059700189766]   |1.97473361905     |\n",
      "+----------------------------------------------------------------------------------------------------------------------------------------------------------------------------------------------------------------------------------------------------------------------------------------------------------------------------------------------------------------------------------------------------------------------------------------------------------------------------------------------------------------------------------------------------------------------------+------------------+\n",
      "only showing top 5 rows\n",
      "\n",
      "Test DataFrame Sample:\n",
      "+------------------------------------------------------------------------------------------------------------------------------------------------------------------------------------------------------------------------------------------------------------------------------------------------------------------------------------------------------------------------------------------------------------------------------------------------------------------------------------------------------------------------------------------------------------------------------+------------------+\n",
      "|scaled_features                                                                                                                                                                                                                                                                                                                                                                                                                                                                                                                                                               |label             |\n",
      "+------------------------------------------------------------------------------------------------------------------------------------------------------------------------------------------------------------------------------------------------------------------------------------------------------------------------------------------------------------------------------------------------------------------------------------------------------------------------------------------------------------------------------------------------------------------------------+------------------+\n",
      "|[-1.3292540747286838,-0.7703113116575478,-0.62465799707143,1.729416440009935,-0.5773147828993003,-0.5772839880169877,-0.5765718560144497,2.230846266457793,-0.4468070347974246,-0.44763624103892186,-0.4471935247745417,-0.44684125976866473,-0.4465412581097654,2.236668886429178,-0.4476000242719764,-0.44738270320214674,-0.44720157546358413,-0.4472217019748243,-0.44678086216917834,1.4123001653728229,-0.7072581657634666,-0.7059974723304295,0.999735635156557,-0.9997356351565568,0.9999106206142596,-0.9999106206142597,-1.3292540747286972,-0.7703113116575393]    |1.387807600128849 |\n",
      "|[-0.7378987388207998,-0.14647128204826693,-0.8302803207988194,1.729416440009935,-0.5773147828993003,-0.5772839880169877,-0.5765718560144497,2.230846266457793,-0.4468070347974246,-0.44763624103892186,-0.4471935247745417,-0.44684125976866473,-0.4465412581097654,2.236668886429178,-0.4476000242719764,-0.44738270320214674,-0.44720157546358413,-0.4472217019748243,-0.44678086216917834,1.4123001653728229,-0.7072581657634666,-0.7059974723304295,0.999735635156557,-0.9997356351565568,0.9999106206142596,-0.9999106206142597,-0.7378987388208142,-0.1464712820482601] |1.9248279725799105|\n",
      "|[-0.48466388086171586,-1.2639585515352405,0.05095820946142082,1.729416440009935,-0.5773147828993003,-0.5772839880169877,-0.5765718560144497,2.230846266457793,-0.4468070347974246,-0.44763624103892186,-0.4471935247745417,-0.44684125976866473,-0.4465412581097654,2.236668886429178,-0.4476000242719764,-0.44738270320214674,-0.44720157546358413,-0.4472217019748243,-0.44678086216917834,1.4123001653728229,-0.7072581657634666,-0.7059974723304295,0.999735635156557,-0.9997356351565568,0.9999106206142596,-0.9999106206142597,-0.4846638808617306,-1.2639585515352307] |1.6431885157546473|\n",
      "|[-3.536962670618717E-4,1.2327209494702116,-0.4777849086947233,1.729416440009935,-0.5773147828993003,-0.5772839880169877,-0.5765718560144497,2.230846266457793,-0.4468070347974246,-0.44763624103892186,-0.4471935247745417,-0.44684125976866473,-0.4465412581097654,2.236668886429178,-0.4476000242719764,-0.44738270320214674,-0.44720157546358413,-0.4472217019748243,-0.44678086216917834,1.4123001653728229,-0.7072581657634666,-0.7059974723304295,0.999735635156557,-0.9997356351565568,0.9999106206142596,-0.9999106206142597,-3.536962670773761E-4,1.2327209494702154]|2.476223622320345 |\n",
      "|[0.8464880007825095,-0.061348399663830745,-0.30153720264267525,1.729416440009935,-0.5773147828993003,-0.5772839880169877,-0.5765718560144497,2.230846266457793,-0.4468070347974246,-0.44763624103892186,-0.4471935247745417,-0.44684125976866473,-0.4465412581097654,2.236668886429178,-0.4476000242719764,-0.44738270320214674,-0.44720157546358413,-0.4472217019748243,-0.44678086216917834,1.4123001653728229,-0.7072581657634666,-0.7059974723304295,0.999735635156557,-0.9997356351565568,0.9999106206142596,-0.9999106206142597,0.8464880007824923,-0.06134839966382397]|3.862146233450498 |\n",
      "+------------------------------------------------------------------------------------------------------------------------------------------------------------------------------------------------------------------------------------------------------------------------------------------------------------------------------------------------------------------------------------------------------------------------------------------------------------------------------------------------------------------------------------------------------------------------------+------------------+\n",
      "only showing top 5 rows\n",
      "\n",
      "Mean Squared Error (MSE): 0.43812148514757643\n",
      "R Squared (R²): 0.8394501839003956\n"
     ]
    }
   ],
   "source": [
    "from pyspark.ml.regression import LinearRegression\n",
    "from pyspark.ml.evaluation import RegressionEvaluator\n",
    "from pyspark.sql.functions import col\n",
    "\n",
    "# Debug: Check schema of train_df and test_df\n",
    "print(\"Train DataFrame Schema:\")\n",
    "train_df.printSchema()\n",
    "print(\"Test DataFrame Schema:\")\n",
    "test_df.printSchema()\n",
    "\n",
    "# Debug: Show a sample of the training and testing data\n",
    "print(\"Train DataFrame Sample:\")\n",
    "train_df.show(5, truncate=False)\n",
    "print(\"Test DataFrame Sample:\")\n",
    "test_df.show(5, truncate=False)\n",
    "\n",
    "# Step 4: Train Linear Regression model\n",
    "linear_reg = LinearRegression(featuresCol=\"scaled_features\", labelCol=\"label\", predictionCol=\"prediction\")\n",
    "linear_model = linear_reg.fit(train_df)\n",
    "\n",
    "# Step 5: Make predictions on the test data\n",
    "predictions = linear_model.transform(test_df)\n",
    "\n",
    "# Step 6: Evaluate the model\n",
    "evaluator = RegressionEvaluator(labelCol=\"label\", predictionCol=\"prediction\")\n",
    "mse = evaluator.evaluate(predictions, {evaluator.metricName: \"mse\"})\n",
    "r2 = evaluator.evaluate(predictions, {evaluator.metricName: \"r2\"})\n",
    "\n",
    "# Output results\n",
    "print(f\"Mean Squared Error (MSE): {mse}\")\n",
    "print(f\"R Squared (R²): {r2}\")\n"
   ]
  },
  {
   "cell_type": "code",
   "execution_count": 20,
   "metadata": {
    "id": "2TGJlKecSRqo"
   },
   "outputs": [
    {
     "name": "stdout",
     "output_type": "stream",
     "text": [
      "Mean Squared Error (MSE): 0.43812148514757643\n",
      "R Squared (R²): 0.8394501839003956\n",
      "\n",
      "Model Summary:\n",
      "Coefficients: [0.6002735511598194,0.06638619731465019,-0.0006526940177461589,0.0012281067410129562,-0.0007245538695789818,-0.00095434489270439,0.000450085611738269,-0.00024573199436658246,-9.76185334030066e-05,-0.000743296011464675,-0.0006922038480599438,0.0014544682059179977,0.00032628804849871366,-0.0004918632391310292,0.0016195688644274637,0.00010838066552501012,-9.520240668075435e-05,-0.00036083316287776235,-0.0007816008717983226,-0.00039287048177802543,0.0009314797181383419,-0.0005387813117502888,-0.28468197497095293,0.28468197497095565,-0.3562991888869114,0.35629918888690754,0.6002735511598145,0.06638619731465112]\n",
      "Intercept: 4.65107498564581\n",
      "+-------------------+\n",
      "|  devianceResiduals|\n",
      "+-------------------+\n",
      "| 0.1622250037249362|\n",
      "|-0.3651342149654542|\n",
      "|-0.1988389202941978|\n",
      "|-0.5480463007165359|\n",
      "|-0.2610726004741608|\n",
      "+-------------------+\n",
      "only showing top 5 rows\n",
      "\n",
      "Deviance Residuals: None\n"
     ]
    }
   ],
   "source": [
    "from pyspark.ml.regression import GeneralizedLinearRegression\n",
    "from pyspark.ml.evaluation import RegressionEvaluator\n",
    "\n",
    "# Step 1: Initialize the Generalized Linear Regression (GLR) model\n",
    "glr = GeneralizedLinearRegression(featuresCol=\"scaled_features\",\n",
    "                                  labelCol=\"label\",\n",
    "                                  predictionCol=\"prediction\",\n",
    "                                  family=\"gaussian\",  # You can set this to \"poisson\", \"gamma\", etc. based on the target variable's distribution\n",
    "                                  link=\"identity\")   # Common link functions: \"log\", \"identity\", \"inverse\"\n",
    "\n",
    "# Step 2: Fit the GLR model on the training dataset\n",
    "glr_model = glr.fit(train_df)\n",
    "\n",
    "# Step 3: Make predictions on the test dataset\n",
    "predictions = glr_model.transform(test_df)\n",
    "\n",
    "# Step 4: Evaluate the model using MSE and R² metrics\n",
    "evaluator = RegressionEvaluator(labelCol=\"label\", predictionCol=\"prediction\")\n",
    "\n",
    "# Calculate Mean Squared Error (MSE)\n",
    "mse = evaluator.evaluate(predictions, {evaluator.metricName: \"mse\"})\n",
    "\n",
    "# Calculate R-squared (R²)\n",
    "r2 = evaluator.evaluate(predictions, {evaluator.metricName: \"r2\"})\n",
    "\n",
    "# Step 5: Output results\n",
    "print(f\"Mean Squared Error (MSE): {mse}\")\n",
    "print(f\"R Squared (R²): {r2}\")\n",
    "\n",
    "# Step 6: Display the model summary\n",
    "summary = glr_model.summary\n",
    "print(\"\\nModel Summary:\")\n",
    "print(f\"Coefficients: {glr_model.coefficients}\")\n",
    "print(f\"Intercept: {glr_model.intercept}\")\n",
    "print(f\"Deviance Residuals: {summary.residuals().show(5)}\")\n"
   ]
  },
  {
   "cell_type": "code",
   "execution_count": 21,
   "metadata": {
    "id": "Fh8LjnzASTFw"
   },
   "outputs": [
    {
     "name": "stdout",
     "output_type": "stream",
     "text": [
      "Mean Squared Error (MSE): 0.4808651520078428\n",
      "R Squared (R²): 0.8237867478752781\n",
      "Feature Importances: (28,[0,22,23,24,25],[0.6301366933473066,0.11037449288933474,0.03329791724530636,0.1052680483032503,0.12092284821480206])\n"
     ]
    }
   ],
   "source": [
    "from pyspark.ml.regression import DecisionTreeRegressor\n",
    "from pyspark.ml.evaluation import RegressionEvaluator\n",
    "\n",
    "# Step 4: Train a Decision Tree Regressor model\n",
    "decision_tree_reg = DecisionTreeRegressor(featuresCol=\"scaled_features\", labelCol=\"label\", predictionCol=\"prediction\")\n",
    "decision_tree_model = decision_tree_reg.fit(train_df)\n",
    "\n",
    "# Step 5: Make predictions on the test data\n",
    "predictions = decision_tree_model.transform(test_df)\n",
    "\n",
    "# Step 6: Evaluate the model\n",
    "evaluator = RegressionEvaluator(labelCol=\"label\", predictionCol=\"prediction\")\n",
    "mse = evaluator.evaluate(predictions, {evaluator.metricName: \"mse\"})\n",
    "r2 = evaluator.evaluate(predictions, {evaluator.metricName: \"r2\"})\n",
    "\n",
    "# Output results\n",
    "print(f\"Mean Squared Error (MSE): {mse}\")\n",
    "print(f\"R Squared (R²): {r2}\")\n",
    "\n",
    "# (Optional) Display feature importance if needed\n",
    "print(\"Feature Importances:\", decision_tree_model.featureImportances)\n"
   ]
  },
  {
   "cell_type": "code",
   "execution_count": 22,
   "metadata": {
    "id": "8eMnLkt2TifH"
   },
   "outputs": [
    {
     "name": "stdout",
     "output_type": "stream",
     "text": [
      "Mean Squared Error (MSE): 0.4927737654977338\n",
      "R Squared (R²): 0.819422831083662\n"
     ]
    }
   ],
   "source": [
    "from pyspark.ml.regression import RandomForestRegressor\n",
    "from pyspark.ml.evaluation import RegressionEvaluator\n",
    "\n",
    "# Step 4: Initialize the Random Forest Regressor\n",
    "random_forest = RandomForestRegressor(featuresCol=\"scaled_features\", labelCol=\"label\", predictionCol=\"prediction\",\n",
    "                                      numTrees=20, maxDepth=5, seed=42)  # You can tune these parameters as needed\n",
    "\n",
    "# Step 5: Train the Random Forest Regressor\n",
    "rf_model = random_forest.fit(train_df)\n",
    "\n",
    "# Step 6: Make predictions on the test data\n",
    "predictions = rf_model.transform(test_df)\n",
    "\n",
    "# Step 7: Evaluate the model\n",
    "evaluator = RegressionEvaluator(labelCol=\"label\", predictionCol=\"prediction\")\n",
    "\n",
    "# Calculate Mean Squared Error (MSE) and R-Squared (R²)\n",
    "mse = evaluator.evaluate(predictions, {evaluator.metricName: \"mse\"})\n",
    "r2 = evaluator.evaluate(predictions, {evaluator.metricName: \"r2\"})\n",
    "\n",
    "# Output results\n",
    "print(f\"Mean Squared Error (MSE): {mse}\")\n",
    "print(f\"R Squared (R²): {r2}\")\n"
   ]
  },
  {
   "cell_type": "code",
   "execution_count": 23,
   "metadata": {
    "id": "vXJLKXkQTylH"
   },
   "outputs": [
    {
     "name": "stdout",
     "output_type": "stream",
     "text": [
      "Mean Squared Error (MSE): 0.441874210008113\n",
      "R Squared (R²): 0.8380749961804219\n"
     ]
    }
   ],
   "source": [
    "from pyspark.ml.regression import GBTRegressor\n",
    "from pyspark.ml.evaluation import RegressionEvaluator\n",
    "\n",
    "# Step 4: Train a Gradient-Boosted Tree Regressor model\n",
    "gbt_regressor = GBTRegressor(featuresCol=\"scaled_features\", labelCol=\"label\", predictionCol=\"prediction\", maxIter=100)\n",
    "gbt_model = gbt_regressor.fit(train_df)\n",
    "\n",
    "# Step 5: Make predictions on the test data\n",
    "predictions = gbt_model.transform(test_df)\n",
    "\n",
    "# Step 6: Evaluate the model\n",
    "evaluator = RegressionEvaluator(labelCol=\"label\", predictionCol=\"prediction\")\n",
    "mse = evaluator.evaluate(predictions, {evaluator.metricName: \"mse\"})\n",
    "r2 = evaluator.evaluate(predictions, {evaluator.metricName: \"r2\"})\n",
    "\n",
    "# Output results\n",
    "print(f\"Mean Squared Error (MSE): {mse}\")\n",
    "print(f\"R Squared (R²): {r2}\")\n"
   ]
  },
  {
   "cell_type": "code",
   "execution_count": null,
   "metadata": {
    "id": "FVqRBsuvUPNt"
   },
   "outputs": [],
   "source": []
  }
 ],
 "metadata": {
  "colab": {
   "provenance": []
  },
  "kernelspec": {
   "display_name": "Python 3",
   "name": "python3"
  },
  "language_info": {
   "codemirror_mode": {
    "name": "ipython",
    "version": 3
   },
   "file_extension": ".py",
   "mimetype": "text/x-python",
   "name": "python",
   "nbconvert_exporter": "python",
   "pygments_lexer": "ipython3",
   "version": "3.11.0"
  }
 },
 "nbformat": 4,
 "nbformat_minor": 0
}
