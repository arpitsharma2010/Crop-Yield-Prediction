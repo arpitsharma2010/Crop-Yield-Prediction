{
 "cells": [
  {
   "cell_type": "markdown",
   "metadata": {},
   "source": [
    "## Importing the required libraries"
   ]
  },
  {
   "cell_type": "code",
   "execution_count": 45,
   "metadata": {},
   "outputs": [],
   "source": [
    "import pandas as pd\n",
    "import matplotlib.pyplot as plt\n",
    "import numpy as np\n",
    "import seaborn as sns\n",
    "from sklearn.preprocessing import MinMaxScaler\n"
   ]
  },
  {
   "cell_type": "markdown",
   "metadata": {},
   "source": [
    "## Accessing the dataset"
   ]
  },
  {
   "cell_type": "code",
   "execution_count": 46,
   "metadata": {},
   "outputs": [
    {
     "name": "stdout",
     "output_type": "stream",
     "text": [
      "<class 'pandas.core.frame.DataFrame'>\n",
      "RangeIndex: 1000000 entries, 0 to 999999\n",
      "Data columns (total 10 columns):\n",
      " #   Column                  Non-Null Count    Dtype  \n",
      "---  ------                  --------------    -----  \n",
      " 0   Region                  1000000 non-null  object \n",
      " 1   Soil_Type               1000000 non-null  object \n",
      " 2   Crop                    1000000 non-null  object \n",
      " 3   Rainfall_mm             950000 non-null   float64\n",
      " 4   Temperature_Celsius     950001 non-null   float64\n",
      " 5   Fertilizer_Used         1000000 non-null  bool   \n",
      " 6   Irrigation_Used         1000000 non-null  bool   \n",
      " 7   Weather_Condition       1000000 non-null  object \n",
      " 8   Days_to_Harvest         950000 non-null   float64\n",
      " 9   Yield_tons_per_hectare  950000 non-null   float64\n",
      "dtypes: bool(2), float64(4), object(4)\n",
      "memory usage: 62.9+ MB\n",
      "None\n"
     ]
    }
   ],
   "source": [
    "data = pd.read_csv('uncleaned_crop_yield.csv')\n",
    "df = pd.DataFrame(data)\n",
    "print(df.info())"
   ]
  },
  {
   "cell_type": "markdown",
   "metadata": {},
   "source": [
    "# Data Cleaning Steps"
   ]
  },
  {
   "cell_type": "markdown",
   "metadata": {},
   "source": [
    "## 1. Removing Duplicates"
   ]
  },
  {
   "cell_type": "code",
   "execution_count": 47,
   "metadata": {},
   "outputs": [
    {
     "name": "stdout",
     "output_type": "stream",
     "text": [
      "<class 'pandas.core.frame.DataFrame'>\n",
      "RangeIndex: 1000000 entries, 0 to 999999\n",
      "Data columns (total 10 columns):\n",
      " #   Column                  Non-Null Count    Dtype  \n",
      "---  ------                  --------------    -----  \n",
      " 0   Region                  1000000 non-null  object \n",
      " 1   Soil_Type               1000000 non-null  object \n",
      " 2   Crop                    1000000 non-null  object \n",
      " 3   Rainfall_mm             950000 non-null   float64\n",
      " 4   Temperature_Celsius     950001 non-null   float64\n",
      " 5   Fertilizer_Used         1000000 non-null  bool   \n",
      " 6   Irrigation_Used         1000000 non-null  bool   \n",
      " 7   Weather_Condition       1000000 non-null  object \n",
      " 8   Days_to_Harvest         950000 non-null   float64\n",
      " 9   Yield_tons_per_hectare  950000 non-null   float64\n",
      "dtypes: bool(2), float64(4), object(4)\n",
      "memory usage: 62.9+ MB\n",
      "None\n"
     ]
    }
   ],
   "source": [
    "df.drop_duplicates(inplace=True)\n",
    "print(df.info())"
   ]
  },
  {
   "cell_type": "markdown",
   "metadata": {},
   "source": [
    "## 2. Replace data inplace"
   ]
  },
  {
   "cell_type": "code",
   "execution_count": 48,
   "metadata": {},
   "outputs": [
    {
     "name": "stdout",
     "output_type": "stream",
     "text": [
      "Region                    0\n",
      "Soil_Type                 0\n",
      "Crop                      0\n",
      "Rainfall_mm               0\n",
      "Temperature_Celsius       0\n",
      "Fertilizer_Used           0\n",
      "Irrigation_Used           0\n",
      "Weather_Condition         0\n",
      "Days_to_Harvest           0\n",
      "Yield_tons_per_hectare    0\n",
      "dtype: int64\n"
     ]
    }
   ],
   "source": [
    "df['Rainfall_mm'] = df['Rainfall_mm'].fillna(value=df['Rainfall_mm'].mean())\n",
    "df['Temperature_Celsius'] = df['Temperature_Celsius'].fillna(value=df['Temperature_Celsius'].mean())\n",
    "df['Days_to_Harvest'] = df['Days_to_Harvest'].fillna(value=df['Days_to_Harvest'].mean())\n",
    "\n",
    "df.dropna(subset='Yield_tons_per_hectare', inplace=True)\n",
    "print(df.isnull().sum())"
   ]
  },
  {
   "cell_type": "markdown",
   "metadata": {},
   "source": [
    "## 3. Remove leading and trailing white spaces"
   ]
  },
  {
   "cell_type": "code",
   "execution_count": 49,
   "metadata": {},
   "outputs": [],
   "source": [
    "df = df.apply(lambda x: x.str.strip() if x.dtype == \"object\" else x)"
   ]
  },
  {
   "cell_type": "markdown",
   "metadata": {},
   "source": [
    "## 4. Consistency in columns"
   ]
  },
  {
   "cell_type": "code",
   "execution_count": 50,
   "metadata": {},
   "outputs": [
    {
     "name": "stdout",
     "output_type": "stream",
     "text": [
      "[False  True]\n",
      "[ True False]\n"
     ]
    }
   ],
   "source": [
    "print(df['Fertilizer_Used'].unique())\n",
    "print(df['Irrigation_Used'].unique())"
   ]
  },
  {
   "cell_type": "code",
   "execution_count": 51,
   "metadata": {},
   "outputs": [],
   "source": [
    "change_type = {\n",
    "    False: 'F',\n",
    "    True: 'T'\n",
    "}\n",
    "df['Fertilizer_Used'] = df['Fertilizer_Used'].replace(change_type)\n",
    "\n",
    "df['Irrigation_Used'] = df['Irrigation_Used'].replace(change_type)"
   ]
  },
  {
   "cell_type": "code",
   "execution_count": 52,
   "metadata": {},
   "outputs": [
    {
     "name": "stdout",
     "output_type": "stream",
     "text": [
      "['F' 'T']\n",
      "['T' 'F']\n"
     ]
    }
   ],
   "source": [
    "print(df['Fertilizer_Used'].unique())\n",
    "print(df['Irrigation_Used'].unique())"
   ]
  },
  {
   "cell_type": "markdown",
   "metadata": {},
   "source": [
    "## 5. Capitalize all string type data column"
   ]
  },
  {
   "cell_type": "code",
   "execution_count": 53,
   "metadata": {},
   "outputs": [
    {
     "data": {
      "text/html": [
       "<div>\n",
       "<style scoped>\n",
       "    .dataframe tbody tr th:only-of-type {\n",
       "        vertical-align: middle;\n",
       "    }\n",
       "\n",
       "    .dataframe tbody tr th {\n",
       "        vertical-align: top;\n",
       "    }\n",
       "\n",
       "    .dataframe thead th {\n",
       "        text-align: right;\n",
       "    }\n",
       "</style>\n",
       "<table border=\"1\" class=\"dataframe\">\n",
       "  <thead>\n",
       "    <tr style=\"text-align: right;\">\n",
       "      <th></th>\n",
       "      <th>Region</th>\n",
       "      <th>Soil_Type</th>\n",
       "      <th>Crop</th>\n",
       "      <th>Rainfall_mm</th>\n",
       "      <th>Temperature_Celsius</th>\n",
       "      <th>Fertilizer_Used</th>\n",
       "      <th>Irrigation_Used</th>\n",
       "      <th>Weather_Condition</th>\n",
       "      <th>Days_to_Harvest</th>\n",
       "      <th>Yield_tons_per_hectare</th>\n",
       "    </tr>\n",
       "  </thead>\n",
       "  <tbody>\n",
       "    <tr>\n",
       "      <th>0</th>\n",
       "      <td>WEST</td>\n",
       "      <td>SANDY</td>\n",
       "      <td>COTTON</td>\n",
       "      <td>897.077239</td>\n",
       "      <td>27.676966</td>\n",
       "      <td>F</td>\n",
       "      <td>T</td>\n",
       "      <td>CLOUDY</td>\n",
       "      <td>122.000000</td>\n",
       "      <td>6.555816</td>\n",
       "    </tr>\n",
       "    <tr>\n",
       "      <th>1</th>\n",
       "      <td>SOUTH</td>\n",
       "      <td>CLAY</td>\n",
       "      <td>RICE</td>\n",
       "      <td>992.673282</td>\n",
       "      <td>18.026142</td>\n",
       "      <td>T</td>\n",
       "      <td>T</td>\n",
       "      <td>RAINY</td>\n",
       "      <td>140.000000</td>\n",
       "      <td>8.527341</td>\n",
       "    </tr>\n",
       "    <tr>\n",
       "      <th>3</th>\n",
       "      <td>NORTH</td>\n",
       "      <td>SANDY</td>\n",
       "      <td>SOYBEAN</td>\n",
       "      <td>986.866331</td>\n",
       "      <td>16.644190</td>\n",
       "      <td>F</td>\n",
       "      <td>T</td>\n",
       "      <td>RAINY</td>\n",
       "      <td>146.000000</td>\n",
       "      <td>6.517573</td>\n",
       "    </tr>\n",
       "    <tr>\n",
       "      <th>4</th>\n",
       "      <td>SOUTH</td>\n",
       "      <td>SILT</td>\n",
       "      <td>WHEAT</td>\n",
       "      <td>730.379174</td>\n",
       "      <td>31.620687</td>\n",
       "      <td>T</td>\n",
       "      <td>T</td>\n",
       "      <td>CLOUDY</td>\n",
       "      <td>110.000000</td>\n",
       "      <td>7.248251</td>\n",
       "    </tr>\n",
       "    <tr>\n",
       "      <th>5</th>\n",
       "      <td>SOUTH</td>\n",
       "      <td>SILT</td>\n",
       "      <td>SOYBEAN</td>\n",
       "      <td>797.471182</td>\n",
       "      <td>37.704974</td>\n",
       "      <td>F</td>\n",
       "      <td>T</td>\n",
       "      <td>RAINY</td>\n",
       "      <td>104.497607</td>\n",
       "      <td>5.898416</td>\n",
       "    </tr>\n",
       "  </tbody>\n",
       "</table>\n",
       "</div>"
      ],
      "text/plain": [
       "  Region Soil_Type     Crop  Rainfall_mm  Temperature_Celsius Fertilizer_Used  \\\n",
       "0   WEST     SANDY   COTTON   897.077239            27.676966               F   \n",
       "1  SOUTH      CLAY     RICE   992.673282            18.026142               T   \n",
       "3  NORTH     SANDY  SOYBEAN   986.866331            16.644190               F   \n",
       "4  SOUTH      SILT    WHEAT   730.379174            31.620687               T   \n",
       "5  SOUTH      SILT  SOYBEAN   797.471182            37.704974               F   \n",
       "\n",
       "  Irrigation_Used Weather_Condition  Days_to_Harvest  Yield_tons_per_hectare  \n",
       "0               T            CLOUDY       122.000000                6.555816  \n",
       "1               T             RAINY       140.000000                8.527341  \n",
       "3               T             RAINY       146.000000                6.517573  \n",
       "4               T            CLOUDY       110.000000                7.248251  \n",
       "5               T             RAINY       104.497607                5.898416  "
      ]
     },
     "execution_count": 53,
     "metadata": {},
     "output_type": "execute_result"
    }
   ],
   "source": [
    "df = df.apply(lambda x: x.str.upper() if x.dtype == \"object\" else x)\n",
    "df.head()"
   ]
  },
  {
   "cell_type": "markdown",
   "metadata": {},
   "source": [
    "## 6. Convert Region and Crop to categorical data"
   ]
  },
  {
   "cell_type": "code",
   "execution_count": 54,
   "metadata": {},
   "outputs": [],
   "source": [
    "df['Region'] = df['Region'].astype('category')\n",
    "df['Crop'] = df['Crop'].astype('category')"
   ]
  },
  {
   "cell_type": "markdown",
   "metadata": {},
   "source": [
    "## 7. Rounding decimal places to 2"
   ]
  },
  {
   "cell_type": "code",
   "execution_count": 55,
   "metadata": {},
   "outputs": [],
   "source": [
    "df['Rainfall_mm'] = df['Rainfall_mm'].round(2)"
   ]
  },
  {
   "cell_type": "markdown",
   "metadata": {},
   "source": [
    "## 8. Outliers removal"
   ]
  },
  {
   "cell_type": "code",
   "execution_count": 56,
   "metadata": {},
   "outputs": [
    {
     "name": "stdout",
     "output_type": "stream",
     "text": [
      "<class 'pandas.core.frame.DataFrame'>\n",
      "Index: 949908 entries, 0 to 999999\n",
      "Data columns (total 10 columns):\n",
      " #   Column                  Non-Null Count   Dtype   \n",
      "---  ------                  --------------   -----   \n",
      " 0   Region                  949908 non-null  category\n",
      " 1   Soil_Type               949908 non-null  object  \n",
      " 2   Crop                    949908 non-null  category\n",
      " 3   Rainfall_mm             949908 non-null  float64 \n",
      " 4   Temperature_Celsius     949908 non-null  float64 \n",
      " 5   Fertilizer_Used         949908 non-null  object  \n",
      " 6   Irrigation_Used         949908 non-null  object  \n",
      " 7   Weather_Condition       949908 non-null  object  \n",
      " 8   Days_to_Harvest         949908 non-null  float64 \n",
      " 9   Yield_tons_per_hectare  949908 non-null  float64 \n",
      "dtypes: category(2), float64(4), object(4)\n",
      "memory usage: 67.0+ MB\n"
     ]
    }
   ],
   "source": [
    "for col in df.select_dtypes(include=[np.number]).columns:\n",
    "        Q1 = df[col].quantile(0.25)\n",
    "        Q3 = df[col].quantile(0.75)\n",
    "        IQR = Q3 - Q1\n",
    "        lower_bound = Q1 - 1.5 * IQR\n",
    "        upper_bound = Q3 + 1.5 * IQR\n",
    "        df = df[(df[col] >= lower_bound) & (df[col] <= upper_bound)]\n",
    "\n",
    "df.info()"
   ]
  },
  {
   "cell_type": "markdown",
   "metadata": {},
   "source": [
    "## 9. One-hot-encoding"
   ]
  },
  {
   "cell_type": "code",
   "execution_count": 57,
   "metadata": {},
   "outputs": [
    {
     "name": "stdout",
     "output_type": "stream",
     "text": [
      "<class 'pandas.core.frame.DataFrame'>\n",
      "Index: 949908 entries, 0 to 999999\n",
      "Data columns (total 27 columns):\n",
      " #   Column                    Non-Null Count   Dtype  \n",
      "---  ------                    --------------   -----  \n",
      " 0   Rainfall_mm               949908 non-null  float64\n",
      " 1   Temperature_Celsius       949908 non-null  float64\n",
      " 2   Days_to_Harvest           949908 non-null  float64\n",
      " 3   Yield_tons_per_hectare    949908 non-null  float64\n",
      " 4   Region_EAST               949908 non-null  float64\n",
      " 5   Region_NORTH              949908 non-null  float64\n",
      " 6   Region_SOUTH              949908 non-null  float64\n",
      " 7   Region_WEST               949908 non-null  float64\n",
      " 8   Soil_Type_CHALKY          949908 non-null  float64\n",
      " 9   Soil_Type_CLAY            949908 non-null  float64\n",
      " 10  Soil_Type_LOAM            949908 non-null  float64\n",
      " 11  Soil_Type_PEATY           949908 non-null  float64\n",
      " 12  Soil_Type_SANDY           949908 non-null  float64\n",
      " 13  Soil_Type_SILT            949908 non-null  float64\n",
      " 14  Crop_BARLEY               949908 non-null  float64\n",
      " 15  Crop_COTTON               949908 non-null  float64\n",
      " 16  Crop_MAIZE                949908 non-null  float64\n",
      " 17  Crop_RICE                 949908 non-null  float64\n",
      " 18  Crop_SOYBEAN              949908 non-null  float64\n",
      " 19  Crop_WHEAT                949908 non-null  float64\n",
      " 20  Weather_Condition_CLOUDY  949908 non-null  float64\n",
      " 21  Weather_Condition_RAINY   949908 non-null  float64\n",
      " 22  Weather_Condition_SUNNY   949908 non-null  float64\n",
      " 23  Irrigation_Used_F         949908 non-null  float64\n",
      " 24  Irrigation_Used_T         949908 non-null  float64\n",
      " 25  Fertilizer_Used_F         949908 non-null  float64\n",
      " 26  Fertilizer_Used_T         949908 non-null  float64\n",
      "dtypes: float64(27)\n",
      "memory usage: 202.9 MB\n"
     ]
    }
   ],
   "source": [
    "encoded_df = pd.get_dummies(df,columns=['Region', 'Soil_Type', 'Crop', 'Weather_Condition', 'Irrigation_Used', 'Fertilizer_Used'], dtype=float)\n",
    "encoded_df.info()"
   ]
  },
  {
   "cell_type": "markdown",
   "metadata": {},
   "source": [
    "## 10. Inconsistent Data: Rounding Billing Amount upto 2 decimal places\n"
   ]
  },
  {
   "cell_type": "code",
   "execution_count": 58,
   "metadata": {},
   "outputs": [
    {
     "name": "stdout",
     "output_type": "stream",
     "text": [
      "<class 'pandas.core.frame.DataFrame'>\n",
      "Index: 949908 entries, 0 to 999999\n",
      "Data columns (total 27 columns):\n",
      " #   Column                    Non-Null Count   Dtype  \n",
      "---  ------                    --------------   -----  \n",
      " 0   Rainfall_mm               949908 non-null  float64\n",
      " 1   Temperature_Celsius       949908 non-null  float64\n",
      " 2   Days_to_Harvest           949908 non-null  float64\n",
      " 3   Yield_tons_per_hectare    949908 non-null  float64\n",
      " 4   Region_EAST               949908 non-null  float64\n",
      " 5   Region_NORTH              949908 non-null  float64\n",
      " 6   Region_SOUTH              949908 non-null  float64\n",
      " 7   Region_WEST               949908 non-null  float64\n",
      " 8   Soil_Type_CHALKY          949908 non-null  float64\n",
      " 9   Soil_Type_CLAY            949908 non-null  float64\n",
      " 10  Soil_Type_LOAM            949908 non-null  float64\n",
      " 11  Soil_Type_PEATY           949908 non-null  float64\n",
      " 12  Soil_Type_SANDY           949908 non-null  float64\n",
      " 13  Soil_Type_SILT            949908 non-null  float64\n",
      " 14  Crop_BARLEY               949908 non-null  float64\n",
      " 15  Crop_COTTON               949908 non-null  float64\n",
      " 16  Crop_MAIZE                949908 non-null  float64\n",
      " 17  Crop_RICE                 949908 non-null  float64\n",
      " 18  Crop_SOYBEAN              949908 non-null  float64\n",
      " 19  Crop_WHEAT                949908 non-null  float64\n",
      " 20  Weather_Condition_CLOUDY  949908 non-null  float64\n",
      " 21  Weather_Condition_RAINY   949908 non-null  float64\n",
      " 22  Weather_Condition_SUNNY   949908 non-null  float64\n",
      " 23  Irrigation_Used_F         949908 non-null  float64\n",
      " 24  Irrigation_Used_T         949908 non-null  float64\n",
      " 25  Fertilizer_Used_F         949908 non-null  float64\n",
      " 26  Fertilizer_Used_T         949908 non-null  float64\n",
      "dtypes: float64(27)\n",
      "memory usage: 202.9 MB\n"
     ]
    }
   ],
   "source": [
    "scaler = MinMaxScaler()\n",
    "encoded_df[['Rainfall_mm', 'Temperature_Celsius']] = scaler.fit_transform(encoded_df[['Rainfall_mm', 'Temperature_Celsius']])\n",
    "encoded_df.info()"
   ]
  },
  {
   "cell_type": "markdown",
   "metadata": {},
   "source": [
    "# Exploratory Data Analysis"
   ]
  },
  {
   "cell_type": "code",
   "execution_count": null,
   "metadata": {},
   "outputs": [],
   "source": []
  }
 ],
 "metadata": {
  "kernelspec": {
   "display_name": "Python 3",
   "language": "python",
   "name": "python3"
  },
  "language_info": {
   "codemirror_mode": {
    "name": "ipython",
    "version": 3
   },
   "file_extension": ".py",
   "mimetype": "text/x-python",
   "name": "python",
   "nbconvert_exporter": "python",
   "pygments_lexer": "ipython3",
   "version": "3.12.2"
  }
 },
 "nbformat": 4,
 "nbformat_minor": 2
}
