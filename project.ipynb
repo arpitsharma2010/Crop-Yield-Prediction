{
 "cells": [
  {
   "cell_type": "markdown",
   "metadata": {},
   "source": [
    "## Importing the required libraries"
   ]
  },
  {
   "cell_type": "code",
   "execution_count": 1,
   "metadata": {},
   "outputs": [],
   "source": [
    "import pandas as pd\n",
    "import matplotlib.pyplot as plt\n",
    "import numpy as np\n",
    "import seaborn as sns"
   ]
  },
  {
   "cell_type": "markdown",
   "metadata": {},
   "source": [
    "## Accessing the dataset"
   ]
  },
  {
   "cell_type": "code",
   "execution_count": 3,
   "metadata": {},
   "outputs": [
    {
     "name": "stdout",
     "output_type": "stream",
     "text": [
      "<class 'pandas.core.frame.DataFrame'>\n",
      "RangeIndex: 1000000 entries, 0 to 999999\n",
      "Data columns (total 10 columns):\n",
      " #   Column                  Non-Null Count    Dtype  \n",
      "---  ------                  --------------    -----  \n",
      " 0   Region                  1000000 non-null  object \n",
      " 1   Soil_Type               1000000 non-null  object \n",
      " 2   Crop                    1000000 non-null  object \n",
      " 3   Rainfall_mm             950000 non-null   float64\n",
      " 4   Temperature_Celsius     950001 non-null   float64\n",
      " 5   Fertilizer_Used         1000000 non-null  bool   \n",
      " 6   Irrigation_Used         1000000 non-null  bool   \n",
      " 7   Weather_Condition       1000000 non-null  object \n",
      " 8   Days_to_Harvest         950000 non-null   float64\n",
      " 9   Yield_tons_per_hectare  950000 non-null   float64\n",
      "dtypes: bool(2), float64(4), object(4)\n",
      "memory usage: 62.9+ MB\n",
      "None\n"
     ]
    }
   ],
   "source": [
    "data = pd.read_csv('uncleaned_crop_yield.csv')\n",
    "df = pd.DataFrame(data)\n",
    "print(df.info())"
   ]
  },
  {
   "cell_type": "markdown",
   "metadata": {},
   "source": [
    "# Data Cleaning Steps"
   ]
  },
  {
   "cell_type": "markdown",
   "metadata": {},
   "source": [
    "## 1. Removing Duplicates"
   ]
  },
  {
   "cell_type": "code",
   "execution_count": 4,
   "metadata": {},
   "outputs": [
    {
     "name": "stdout",
     "output_type": "stream",
     "text": [
      "<class 'pandas.core.frame.DataFrame'>\n",
      "Index: 999999 entries, 0 to 999999\n",
      "Data columns (total 10 columns):\n",
      " #   Column                  Non-Null Count   Dtype  \n",
      "---  ------                  --------------   -----  \n",
      " 0   Region                  999999 non-null  object \n",
      " 1   Soil_Type               999999 non-null  object \n",
      " 2   Crop                    999999 non-null  object \n",
      " 3   Rainfall_mm             950000 non-null  float64\n",
      " 4   Temperature_Celsius     950001 non-null  float64\n",
      " 5   Fertilizer_Used         999999 non-null  bool   \n",
      " 6   Irrigation_Used         999999 non-null  bool   \n",
      " 7   Weather_Condition       999999 non-null  object \n",
      " 8   Days_to_Harvest         949999 non-null  float64\n",
      " 9   Yield_tons_per_hectare  950000 non-null  float64\n",
      "dtypes: bool(2), float64(4), object(4)\n",
      "memory usage: 70.6+ MB\n",
      "None\n"
     ]
    }
   ],
   "source": [
    "df.drop_duplicates(inplace=True)\n",
    "print(df.info())"
   ]
  },
  {
   "cell_type": "markdown",
   "metadata": {},
   "source": [
    "## 2. Replace data inplace"
   ]
  },
  {
   "cell_type": "code",
   "execution_count": 7,
   "metadata": {},
   "outputs": [
    {
     "name": "stdout",
     "output_type": "stream",
     "text": [
      "Region                    0\n",
      "Soil_Type                 0\n",
      "Crop                      0\n",
      "Rainfall_mm               0\n",
      "Temperature_Celsius       0\n",
      "Fertilizer_Used           0\n",
      "Irrigation_Used           0\n",
      "Weather_Condition         0\n",
      "Days_to_Harvest           0\n",
      "Yield_tons_per_hectare    0\n",
      "Days_to_Harvest           0\n",
      "dtype: int64\n"
     ]
    }
   ],
   "source": [
    "df['Rainfall_mm'] = df['Rainfall_mm'].fillna(value=df['Rainfall_mm'].mean())\n",
    "df['Temperature_Celsius'] = df['Temperature_Celsius'].fillna(value=df['Temperature_Celsius'].mean())\n",
    "df['Days_to_Harvest'] = df['Days_to_Harvest'].fillna(value=df['Days_to_Harvest'].mean())\n",
    "\n",
    "df.dropna(subset='Yield_tons_per_hectare', inplace=True)\n",
    "print(df.isnull().sum())"
   ]
  },
  {
   "cell_type": "markdown",
   "metadata": {},
   "source": [
    "## 3. Remove leading and trailing white spaces"
   ]
  },
  {
   "cell_type": "code",
   "execution_count": 8,
   "metadata": {},
   "outputs": [],
   "source": [
    "df = df.apply(lambda x: x.str.strip() if x.dtype == \"object\" else x)"
   ]
  },
  {
   "cell_type": "markdown",
   "metadata": {},
   "source": [
    "## 4. Consistency in Blood Type column"
   ]
  },
  {
   "cell_type": "code",
   "execution_count": 9,
   "metadata": {},
   "outputs": [
    {
     "name": "stdout",
     "output_type": "stream",
     "text": [
      "[False  True]\n",
      "[ True False]\n"
     ]
    }
   ],
   "source": [
    "print(df['Fertilizer_Used'].unique())\n",
    "print(df['Irrigation_Used'].unique())"
   ]
  },
  {
   "cell_type": "code",
   "execution_count": 224,
   "metadata": {},
   "outputs": [],
   "source": [
    "inconsistent_blood_type = {\n",
    "    'A positive': 'A+',\n",
    "    'b negative': 'B-',\n",
    "    'O positive': 'O+'\n",
    "}\n",
    "df['Blood Type'] = df['Blood Type'].replace(inconsistent_blood_type)\n",
    "\n",
    "df['Gender'] = df['Gender'].replace({'male': 'M', 'Male': 'M', 'Female': 'F'})"
   ]
  },
  {
   "cell_type": "code",
   "execution_count": 225,
   "metadata": {},
   "outputs": [
    {
     "name": "stdout",
     "output_type": "stream",
     "text": [
      "['B-' 'A+' 'A-' 'O+' 'AB+' 'AB-' 'B+' 'O-']\n",
      "['M' 'F']\n"
     ]
    }
   ],
   "source": [
    "print(df['Blood Type'].unique())\n",
    "print(df['Gender'].unique())"
   ]
  },
  {
   "cell_type": "markdown",
   "metadata": {},
   "source": [
    "## 5. Capitalize all string type data column"
   ]
  },
  {
   "cell_type": "code",
   "execution_count": 226,
   "metadata": {},
   "outputs": [
    {
     "data": {
      "text/html": [
       "<div>\n",
       "<style scoped>\n",
       "    .dataframe tbody tr th:only-of-type {\n",
       "        vertical-align: middle;\n",
       "    }\n",
       "\n",
       "    .dataframe tbody tr th {\n",
       "        vertical-align: top;\n",
       "    }\n",
       "\n",
       "    .dataframe thead th {\n",
       "        text-align: right;\n",
       "    }\n",
       "</style>\n",
       "<table border=\"1\" class=\"dataframe\">\n",
       "  <thead>\n",
       "    <tr style=\"text-align: right;\">\n",
       "      <th></th>\n",
       "      <th>Name</th>\n",
       "      <th>Age</th>\n",
       "      <th>Gender</th>\n",
       "      <th>Blood Type</th>\n",
       "      <th>Medical Condition</th>\n",
       "      <th>Date of Admission</th>\n",
       "      <th>Doctor</th>\n",
       "      <th>Hospital</th>\n",
       "      <th>Insurance Provider</th>\n",
       "      <th>Billing Amount</th>\n",
       "      <th>Room Number</th>\n",
       "      <th>Admission Type</th>\n",
       "      <th>Discharge Date</th>\n",
       "      <th>Medication</th>\n",
       "      <th>Test Results</th>\n",
       "    </tr>\n",
       "  </thead>\n",
       "  <tbody>\n",
       "    <tr>\n",
       "      <th>0</th>\n",
       "      <td>BOBBY JACKSON</td>\n",
       "      <td>30.000000</td>\n",
       "      <td>M</td>\n",
       "      <td>B-</td>\n",
       "      <td>CANCER</td>\n",
       "      <td>2024/01/31</td>\n",
       "      <td>MATTHEW SMITH</td>\n",
       "      <td>SONS AND MILLER</td>\n",
       "      <td>BLUE CROSS</td>\n",
       "      <td>18856.281306</td>\n",
       "      <td>328</td>\n",
       "      <td>URGENT</td>\n",
       "      <td>2024/02/02</td>\n",
       "      <td>PARACETAMOL</td>\n",
       "      <td>NORMAL</td>\n",
       "    </tr>\n",
       "    <tr>\n",
       "      <th>1</th>\n",
       "      <td>LESLIE TERRY</td>\n",
       "      <td>53.819887</td>\n",
       "      <td>M</td>\n",
       "      <td>A+</td>\n",
       "      <td>OBESITY</td>\n",
       "      <td>2019/08/20</td>\n",
       "      <td>SAMANTHA DAVIES</td>\n",
       "      <td>KIM INC</td>\n",
       "      <td>MEDICARE</td>\n",
       "      <td>33643.327287</td>\n",
       "      <td>265</td>\n",
       "      <td>EMERGENCY</td>\n",
       "      <td>2019/08/26</td>\n",
       "      <td>IBUPROFEN</td>\n",
       "      <td>INCONCLUSIVE</td>\n",
       "    </tr>\n",
       "    <tr>\n",
       "      <th>2</th>\n",
       "      <td>DANNY SMITH</td>\n",
       "      <td>76.000000</td>\n",
       "      <td>F</td>\n",
       "      <td>A-</td>\n",
       "      <td>OBESITY</td>\n",
       "      <td>2022/09/22</td>\n",
       "      <td>TIFFANY MITCHELL</td>\n",
       "      <td>COOK PLC</td>\n",
       "      <td>AETNA</td>\n",
       "      <td>27955.096079</td>\n",
       "      <td>205</td>\n",
       "      <td>EMERGENCY</td>\n",
       "      <td>2022/10/07</td>\n",
       "      <td>ASPIRIN</td>\n",
       "      <td>NORMAL</td>\n",
       "    </tr>\n",
       "    <tr>\n",
       "      <th>3</th>\n",
       "      <td>ANDREW WATTS</td>\n",
       "      <td>53.819887</td>\n",
       "      <td>F</td>\n",
       "      <td>O+</td>\n",
       "      <td>DIABETES</td>\n",
       "      <td>2020/11/18</td>\n",
       "      <td>KEVIN WELLS</td>\n",
       "      <td>HERNANDEZ ROGERS AND VANG,</td>\n",
       "      <td>MEDICARE</td>\n",
       "      <td>37909.782410</td>\n",
       "      <td>450</td>\n",
       "      <td>ELECTIVE</td>\n",
       "      <td>2020/12/18</td>\n",
       "      <td>IBUPROFEN</td>\n",
       "      <td>ABNORMAL</td>\n",
       "    </tr>\n",
       "    <tr>\n",
       "      <th>5</th>\n",
       "      <td>EMILY JOHNSON</td>\n",
       "      <td>36.000000</td>\n",
       "      <td>M</td>\n",
       "      <td>A+</td>\n",
       "      <td>ASTHMA</td>\n",
       "      <td>2023/12/20</td>\n",
       "      <td>TAYLOR NEWTON</td>\n",
       "      <td>NUNEZ-HUMPHREY</td>\n",
       "      <td>UNITEDHEALTHCARE</td>\n",
       "      <td>48145.110951</td>\n",
       "      <td>389</td>\n",
       "      <td>URGENT</td>\n",
       "      <td>2023/12/24</td>\n",
       "      <td>IBUPROFEN</td>\n",
       "      <td>NORMAL</td>\n",
       "    </tr>\n",
       "  </tbody>\n",
       "</table>\n",
       "</div>"
      ],
      "text/plain": [
       "            Name        Age Gender Blood Type Medical Condition  \\\n",
       "0  BOBBY JACKSON  30.000000      M         B-            CANCER   \n",
       "1   LESLIE TERRY  53.819887      M         A+           OBESITY   \n",
       "2    DANNY SMITH  76.000000      F         A-           OBESITY   \n",
       "3   ANDREW WATTS  53.819887      F         O+          DIABETES   \n",
       "5  EMILY JOHNSON  36.000000      M         A+            ASTHMA   \n",
       "\n",
       "  Date of Admission            Doctor                    Hospital  \\\n",
       "0        2024/01/31     MATTHEW SMITH             SONS AND MILLER   \n",
       "1        2019/08/20   SAMANTHA DAVIES                     KIM INC   \n",
       "2        2022/09/22  TIFFANY MITCHELL                    COOK PLC   \n",
       "3        2020/11/18       KEVIN WELLS  HERNANDEZ ROGERS AND VANG,   \n",
       "5        2023/12/20     TAYLOR NEWTON              NUNEZ-HUMPHREY   \n",
       "\n",
       "  Insurance Provider  Billing Amount  Room Number Admission Type  \\\n",
       "0         BLUE CROSS    18856.281306          328         URGENT   \n",
       "1           MEDICARE    33643.327287          265      EMERGENCY   \n",
       "2              AETNA    27955.096079          205      EMERGENCY   \n",
       "3           MEDICARE    37909.782410          450       ELECTIVE   \n",
       "5   UNITEDHEALTHCARE    48145.110951          389         URGENT   \n",
       "\n",
       "  Discharge Date   Medication  Test Results  \n",
       "0     2024/02/02  PARACETAMOL        NORMAL  \n",
       "1     2019/08/26    IBUPROFEN  INCONCLUSIVE  \n",
       "2     2022/10/07      ASPIRIN        NORMAL  \n",
       "3     2020/12/18    IBUPROFEN      ABNORMAL  \n",
       "5     2023/12/24    IBUPROFEN        NORMAL  "
      ]
     },
     "execution_count": 226,
     "metadata": {},
     "output_type": "execute_result"
    }
   ],
   "source": [
    "df = df.apply(lambda x: x.str.upper() if x.dtype == \"object\" else x)\n",
    "df.head()"
   ]
  },
  {
   "cell_type": "markdown",
   "metadata": {},
   "source": [
    "## 6. Filtered Data above the mean value of Age"
   ]
  },
  {
   "cell_type": "code",
   "execution_count": 227,
   "metadata": {},
   "outputs": [],
   "source": [
    "df = df[df['Age'] <= df['Age'].mean() * 2]"
   ]
  },
  {
   "cell_type": "markdown",
   "metadata": {},
   "source": [
    "## 7. Datatype Conversion "
   ]
  },
  {
   "cell_type": "code",
   "execution_count": 228,
   "metadata": {},
   "outputs": [
    {
     "name": "stdout",
     "output_type": "stream",
     "text": [
      "0        2024/01/31\n",
      "1        2019/08/20\n",
      "2        2022/09/22\n",
      "3        2020/11/18\n",
      "5        2023/12/20\n",
      "            ...    \n",
      "58260    2021/05/02\n",
      "58261    2022/04/23\n",
      "58265    2021/03/09\n",
      "58269    2022/09/18\n",
      "58271    2023/02/02\n",
      "Name: Date of Admission, Length: 49316, dtype: object\n"
     ]
    }
   ],
   "source": [
    "print(df['Date of Admission'])"
   ]
  },
  {
   "cell_type": "code",
   "execution_count": 229,
   "metadata": {},
   "outputs": [
    {
     "name": "stdout",
     "output_type": "stream",
     "text": [
      "<class 'pandas.core.frame.DataFrame'>\n",
      "Index: 49316 entries, 0 to 58271\n",
      "Data columns (total 15 columns):\n",
      " #   Column              Non-Null Count  Dtype         \n",
      "---  ------              --------------  -----         \n",
      " 0   Name                49316 non-null  object        \n",
      " 1   Age                 49316 non-null  float64       \n",
      " 2   Gender              49316 non-null  object        \n",
      " 3   Blood Type          49316 non-null  object        \n",
      " 4   Medical Condition   49316 non-null  object        \n",
      " 5   Date of Admission   49316 non-null  datetime64[ns]\n",
      " 6   Doctor              49316 non-null  object        \n",
      " 7   Hospital            49316 non-null  object        \n",
      " 8   Insurance Provider  49316 non-null  object        \n",
      " 9   Billing Amount      49316 non-null  float64       \n",
      " 10  Room Number         49316 non-null  int64         \n",
      " 11  Admission Type      49316 non-null  object        \n",
      " 12  Discharge Date      49316 non-null  datetime64[ns]\n",
      " 13  Medication          49316 non-null  object        \n",
      " 14  Test Results        49316 non-null  object        \n",
      "dtypes: datetime64[ns](2), float64(2), int64(1), object(10)\n",
      "memory usage: 6.0+ MB\n"
     ]
    }
   ],
   "source": [
    "df['Date of Admission'] = pd.to_datetime(df['Date of Admission'], format='%Y/%m/%d')\n",
    "df['Discharge Date'] = pd.to_datetime(df['Discharge Date'], format='%Y/%m/%d')\n",
    "df.info()"
   ]
  },
  {
   "cell_type": "markdown",
   "metadata": {},
   "source": [
    "## 8. New column named number of days admitted based on Date of Admission and Discharge Date"
   ]
  },
  {
   "cell_type": "code",
   "execution_count": 230,
   "metadata": {},
   "outputs": [
    {
     "name": "stdout",
     "output_type": "stream",
     "text": [
      "0         2\n",
      "1         6\n",
      "2        15\n",
      "3        30\n",
      "5         4\n",
      "         ..\n",
      "58260    13\n",
      "58261    22\n",
      "58265     8\n",
      "58269    18\n",
      "58271     5\n",
      "Name: Length of Stay, Length: 49316, dtype: int64\n"
     ]
    }
   ],
   "source": [
    "df['Length of Stay'] = (df['Discharge Date'] - df['Date of Admission']).dt.days\n",
    "print(df['Length of Stay'])"
   ]
  },
  {
   "cell_type": "markdown",
   "metadata": {},
   "source": [
    "## 9. Delete un-important columns"
   ]
  },
  {
   "cell_type": "code",
   "execution_count": 231,
   "metadata": {},
   "outputs": [
    {
     "name": "stdout",
     "output_type": "stream",
     "text": [
      "<class 'pandas.core.frame.DataFrame'>\n",
      "Index: 49316 entries, 0 to 58271\n",
      "Data columns (total 13 columns):\n",
      " #   Column              Non-Null Count  Dtype         \n",
      "---  ------              --------------  -----         \n",
      " 0   Age                 49316 non-null  float64       \n",
      " 1   Gender              49316 non-null  object        \n",
      " 2   Blood Type          49316 non-null  object        \n",
      " 3   Medical Condition   49316 non-null  object        \n",
      " 4   Date of Admission   49316 non-null  datetime64[ns]\n",
      " 5   Hospital            49316 non-null  object        \n",
      " 6   Insurance Provider  49316 non-null  object        \n",
      " 7   Billing Amount      49316 non-null  float64       \n",
      " 8   Admission Type      49316 non-null  object        \n",
      " 9   Discharge Date      49316 non-null  datetime64[ns]\n",
      " 10  Medication          49316 non-null  object        \n",
      " 11  Test Results        49316 non-null  object        \n",
      " 12  Length of Stay      49316 non-null  int64         \n",
      "dtypes: datetime64[ns](2), float64(2), int64(1), object(8)\n",
      "memory usage: 5.3+ MB\n"
     ]
    }
   ],
   "source": [
    "df = df.drop(['Name', 'Doctor', 'Room Number'], axis=1)\n",
    "df.info()"
   ]
  },
  {
   "cell_type": "markdown",
   "metadata": {},
   "source": [
    "## 10. Inconsistent Data: Rounding Billing Amount upto 2 decimal places\n"
   ]
  },
  {
   "cell_type": "code",
   "execution_count": 232,
   "metadata": {},
   "outputs": [],
   "source": [
    "df['Billing Amount'] = df['Billing Amount'].round(2)"
   ]
  },
  {
   "cell_type": "markdown",
   "metadata": {},
   "source": [
    "## 11. Handling Categorical Data"
   ]
  },
  {
   "cell_type": "code",
   "execution_count": 233,
   "metadata": {},
   "outputs": [
    {
     "name": "stdout",
     "output_type": "stream",
     "text": [
      "<class 'pandas.core.frame.DataFrame'>\n",
      "Index: 49316 entries, 0 to 58271\n",
      "Data columns (total 27 columns):\n",
      " #   Column                               Non-Null Count  Dtype         \n",
      "---  ------                               --------------  -----         \n",
      " 0   Age                                  49316 non-null  float64       \n",
      " 1   Date of Admission                    49316 non-null  datetime64[ns]\n",
      " 2   Hospital                             49316 non-null  object        \n",
      " 3   Billing Amount                       49316 non-null  float64       \n",
      " 4   Discharge Date                       49316 non-null  datetime64[ns]\n",
      " 5   Medication                           49316 non-null  object        \n",
      " 6   Test Results                         49316 non-null  object        \n",
      " 7   Length of Stay                       49316 non-null  int64         \n",
      " 8   Gender_M                             49316 non-null  float64       \n",
      " 9   Blood Type_A-                        49316 non-null  float64       \n",
      " 10  Blood Type_AB+                       49316 non-null  float64       \n",
      " 11  Blood Type_AB-                       49316 non-null  float64       \n",
      " 12  Blood Type_B+                        49316 non-null  float64       \n",
      " 13  Blood Type_B-                        49316 non-null  float64       \n",
      " 14  Blood Type_O+                        49316 non-null  float64       \n",
      " 15  Blood Type_O-                        49316 non-null  float64       \n",
      " 16  Medical Condition_ASTHMA             49316 non-null  float64       \n",
      " 17  Medical Condition_CANCER             49316 non-null  float64       \n",
      " 18  Medical Condition_DIABETES           49316 non-null  float64       \n",
      " 19  Medical Condition_HYPERTENSION       49316 non-null  float64       \n",
      " 20  Medical Condition_OBESITY            49316 non-null  float64       \n",
      " 21  Insurance Provider_BLUE CROSS        49316 non-null  float64       \n",
      " 22  Insurance Provider_CIGNA             49316 non-null  float64       \n",
      " 23  Insurance Provider_MEDICARE          49316 non-null  float64       \n",
      " 24  Insurance Provider_UNITEDHEALTHCARE  49316 non-null  float64       \n",
      " 25  Admission Type_EMERGENCY             49316 non-null  float64       \n",
      " 26  Admission Type_URGENT                49316 non-null  float64       \n",
      "dtypes: datetime64[ns](2), float64(21), int64(1), object(3)\n",
      "memory usage: 10.5+ MB\n",
      "None\n"
     ]
    }
   ],
   "source": [
    "df_encoded = pd.get_dummies(data=df, columns=['Gender', 'Blood Type', 'Medical Condition', 'Insurance Provider', 'Admission Type'], dtype=float, drop_first=True)\n",
    "print(df_encoded.info())"
   ]
  },
  {
   "cell_type": "markdown",
   "metadata": {},
   "source": [
    "# Exploratory Data Analysis"
   ]
  },
  {
   "cell_type": "code",
   "execution_count": null,
   "metadata": {},
   "outputs": [],
   "source": []
  }
 ],
 "metadata": {
  "kernelspec": {
   "display_name": "Python 3",
   "language": "python",
   "name": "python3"
  },
  "language_info": {
   "codemirror_mode": {
    "name": "ipython",
    "version": 3
   },
   "file_extension": ".py",
   "mimetype": "text/x-python",
   "name": "python",
   "nbconvert_exporter": "python",
   "pygments_lexer": "ipython3",
   "version": "3.12.2"
  }
 },
 "nbformat": 4,
 "nbformat_minor": 2
}
